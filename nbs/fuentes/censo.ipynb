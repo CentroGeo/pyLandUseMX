{
 "cells": [
  {
   "cell_type": "markdown",
   "metadata": {},
   "source": [
    "# Procesamiento de fuentes de datos\n",
    "\n",
    "Aquí documentamos los procedimientos con los que procesamos algunas fuentes de datos que se usan para el análisis de uso de suelo y que no son parte de la librería."
   ]
  },
  {
   "cell_type": "code",
   "execution_count": null,
   "metadata": {},
   "outputs": [],
   "source": [
    "import pandas as pd\n",
    "import geopandas as gpd\n",
    "from pyLandUseMX.descargas import *\n",
    "from pathlib import Path\n",
    "import os"
   ]
  },
  {
   "cell_type": "markdown",
   "metadata": {},
   "source": [
    "## Censo a nivel manzana\n",
    "\n",
    "Aquí documentamos el procedimiento para obtener los datos a nivel manzana que se utilizan en `Coberturas.agrega_mananas()`\n",
    "\n",
    "### Datos de ejemplo CDMX\n",
    "\n",
    "Esta base se usa como ejemplo en la librería."
   ]
  },
  {
   "cell_type": "code",
   "execution_count": null,
   "metadata": {},
   "outputs": [
    {
     "name": "stdout",
     "output_type": "stream",
     "text": [
      "El archivo ya está descargado\n"
     ]
    },
    {
     "data": {
      "text/html": [
       "<div>\n",
       "<style scoped>\n",
       "    .dataframe tbody tr th:only-of-type {\n",
       "        vertical-align: middle;\n",
       "    }\n",
       "\n",
       "    .dataframe tbody tr th {\n",
       "        vertical-align: top;\n",
       "    }\n",
       "\n",
       "    .dataframe thead th {\n",
       "        text-align: right;\n",
       "    }\n",
       "</style>\n",
       "<table border=\"1\" class=\"dataframe\">\n",
       "  <thead>\n",
       "    <tr style=\"text-align: right;\">\n",
       "      <th></th>\n",
       "      <th>CVEGEO</th>\n",
       "      <th>geometry</th>\n",
       "      <th>VIVPAR_HAB</th>\n",
       "      <th>OCUPVIVPAR</th>\n",
       "    </tr>\n",
       "  </thead>\n",
       "  <tbody>\n",
       "    <tr>\n",
       "      <th>0</th>\n",
       "      <td>0901000010898031</td>\n",
       "      <td>POLYGON ((2790204.135 820779.247, 2790125.593 ...</td>\n",
       "      <td>22.0</td>\n",
       "      <td>93.0</td>\n",
       "    </tr>\n",
       "    <tr>\n",
       "      <th>1</th>\n",
       "      <td>0901000012269024</td>\n",
       "      <td>POLYGON ((2791387.916 821465.156, 2791376.215 ...</td>\n",
       "      <td>0.0</td>\n",
       "      <td>0.0</td>\n",
       "    </tr>\n",
       "    <tr>\n",
       "      <th>2</th>\n",
       "      <td>0901000011472068</td>\n",
       "      <td>POLYGON ((2788494.355 822775.106, 2788478.422 ...</td>\n",
       "      <td>33.0</td>\n",
       "      <td>124.0</td>\n",
       "    </tr>\n",
       "    <tr>\n",
       "      <th>3</th>\n",
       "      <td>0901000011824024</td>\n",
       "      <td>POLYGON ((2790870.494 819456.298, 2790862.256 ...</td>\n",
       "      <td>95.0</td>\n",
       "      <td>340.0</td>\n",
       "    </tr>\n",
       "    <tr>\n",
       "      <th>4</th>\n",
       "      <td>0901000012377004</td>\n",
       "      <td>POLYGON ((2792111.138 821977.886, 2792115.437 ...</td>\n",
       "      <td>23.0</td>\n",
       "      <td>82.0</td>\n",
       "    </tr>\n",
       "  </tbody>\n",
       "</table>\n",
       "</div>"
      ],
      "text/plain": [
       "             CVEGEO                                           geometry  \\\n",
       "0  0901000010898031  POLYGON ((2790204.135 820779.247, 2790125.593 ...   \n",
       "1  0901000012269024  POLYGON ((2791387.916 821465.156, 2791376.215 ...   \n",
       "2  0901000011472068  POLYGON ((2788494.355 822775.106, 2788478.422 ...   \n",
       "3  0901000011824024  POLYGON ((2790870.494 819456.298, 2790862.256 ...   \n",
       "4  0901000012377004  POLYGON ((2792111.138 821977.886, 2792115.437 ...   \n",
       "\n",
       "   VIVPAR_HAB  OCUPVIVPAR  \n",
       "0        22.0        93.0  \n",
       "1         0.0         0.0  \n",
       "2        33.0       124.0  \n",
       "3        95.0       340.0  \n",
       "4        23.0        82.0  "
      ]
     },
     "execution_count": null,
     "metadata": {},
     "output_type": "execute_result"
    }
   ],
   "source": [
    "# Descargamos la geometría de las manzanas\n",
    "Path(DOWNLOADS_PATH).mkdir(parents=True, exist_ok=True)\n",
    "fname = 'manzanas.gpkg'\n",
    "absp = os.path.abspath(os.path.join(DOWNLOADS_PATH, fname))\n",
    "if os.path.exists(absp):\n",
    "    print(\"El archivo ya está descargado\")\n",
    "else:\n",
    "    url = 'https://www.dropbox.com/s/bzsj7wl4izzdbjh/manzanas_identificadores.gpkg?dl=1'\n",
    "    r = requests.get(url, allow_redirects=True)\n",
    "    open(absp, 'wb').write(r.content)\n",
    "# Leemos la geometría de las manzanas de CDMX\n",
    "manzanas = gpd.read_file(absp)\n",
    "# Leemos los datos del censo (sólo unas columnas para elejemplo)\n",
    "censo = pd.read_csv(\"../../datos/censo_manzanas.zip\", \n",
    "                    dtype={'CVEGEO':str, 'colonia_cve': 'Int64'}, \n",
    "                    usecols=['CVEGEO', 'OCUPVIVPAR', 'VIVPAR_HAB'])\n",
    "\n",
    "# Unimos \n",
    "manzanas = manzanas.merge(censo, on='CVEGEO').fillna(0) # Llenamos con 0 los faltantes\n",
    "manzanas = manzanas.drop(columns=['colonia_cve', 'cuadrante_id', 'colonia_nombre', 'AMBITO', 'TIPOMZA'])\n",
    "manzanas.head()"
   ]
  },
  {
   "cell_type": "markdown",
   "metadata": {},
   "source": [
    "Lo guardamos"
   ]
  },
  {
   "cell_type": "code",
   "execution_count": null,
   "metadata": {},
   "outputs": [],
   "source": [
    "manzanas.to_file(\"../../datos/descargas/manzanas_ejemplo.shp\")"
   ]
  }
 ],
 "metadata": {
  "kernelspec": {
   "display_name": "Python 3.10.6 ('pylandusemx')",
   "language": "python",
   "name": "python3"
  }
 },
 "nbformat": 4,
 "nbformat_minor": 2
}
