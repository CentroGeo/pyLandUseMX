{
 "cells": [
  {
   "cell_type": "code",
   "execution_count": null,
   "metadata": {},
   "outputs": [],
   "source": [
    "#| hide\n",
    "import geopandas as gpd\n",
    "from pyLandUseMX.descargas import *\n",
    "from pyLandUseMX.coberturas import *"
   ]
  },
  {
   "cell_type": "markdown",
   "metadata": {},
   "source": [
    "# pyLandUseMX\n",
    "\n",
    "> Herramientas para construir y obtener variables de uso de suelo en México"
   ]
  },
  {
   "cell_type": "markdown",
   "metadata": {},
   "source": [
    "El uso de suelo es un insumo básico para diferentes investigaciones en el contexto urbano: criminología, movilidad y diseño urbano, por ejemplo, son campos en los que contar con información sobre el uso real del suelo resulta fundamental para realizar investigaciones cuantitativas. Esta librería busca ofrecer diferentes opciones para construir variables e índices para caracterizar el uso de suelo _real_, es decir el uso observado, en el contexto de las ciudades mexicanas.\n",
    "\n",
    "Aprovecha diferentes fuentes de datos públicas como el DENUE y el Censo para estimar variables de uso de suelo y su cambio en el tiempo. Provee métodos para definir tipos de uso de suelo y agregarlo en diferentes unidades espaciales: mallas regulares, hexágonos y polígonos arbitrarios (como colonias o AGEBS)."
   ]
  },
  {
   "cell_type": "markdown",
   "metadata": {},
   "source": [
    "## Instalación\n",
    "\n",
    "Por lo pronto, la manera más fácil de instalar la librería es usando `pip` para instalar desde el repositorio. Antes es necesario asegurarse de que las dependencias del sistema están instaladas:\n",
    "\n",
    "* `gdal`\n",
    "* `rtree`\n",
    "* `libgeos`\n",
    "* `proj`\n",
    "\n",
    "En sistemas basados en `apt`:\n",
    "\n",
    "```sh\n",
    "sudo apt-get install -y gdal-bin python3-gdal python3-rtree libspatialindex-dev libgeos-dev libproj-dev\n",
    "```\n",
    "\n",
    "Ya con las dependencias instaladas:\n",
    "\n",
    "```sh\n",
    "pip install git+https://github.com/CentroGeo/pyLandUseMX\n",
    "```\n"
   ]
  },
  {
   "cell_type": "markdown",
   "metadata": {},
   "source": [
    "## Uso"
   ]
  },
  {
   "cell_type": "markdown",
   "metadata": {},
   "source": [
    "La librería contiene una serie de módulos para realizar diferentes tareas para la extracción y proceso de variables de uso de suelo. El primer módulo de `descargas`, este símplemente se encarga de asegurar que los datos estén descargados. Por lo pronto todos los datos se descargan a la carpeta `datos/descargas` en el directorio de instalación. Cada función regresa el _path_ al archivo descargado.\n",
    "\n",
    "Para descargar los datos individualmente:"
   ]
  },
  {
   "cell_type": "code",
   "execution_count": null,
   "metadata": {},
   "outputs": [
    {
     "name": "stdout",
     "output_type": "stream",
     "text": [
      "El archivo ya está descargado\n",
      "El archivo ya está descargado\n",
      "/home/plablo/git/pyLandUseMX/datos/descargas/red_zmvm.gpkg /home/plablo/git/pyLandUseMX/datos/descargas/silhuetas.shp.zip\n"
     ]
    }
   ],
   "source": [
    "pth_redes = descarga_redes()\n",
    "pth_poli = descarga_poligonos_ciudades()\n",
    "print(pth_redes, pth_poli)"
   ]
  },
  {
   "cell_type": "markdown",
   "metadata": {},
   "source": [
    "También podemos descargar todos los datos:"
   ]
  },
  {
   "cell_type": "markdown",
   "metadata": {},
   "source": [
    "## Mallas\n",
    "\n",
    "El módulo mallas permite agregar diferentes cpas en mallas regulares. Supongamos que tenemos una capa de puntos que representa la ocurrencia de algún uso de suelo y las vialidades primarias. Podemos fácilmente agregar las dos capas en una malla regular, obtener rasters y visualizarlos"
   ]
  },
  {
   "cell_type": "code",
   "execution_count": null,
   "metadata": {},
   "outputs": [
    {
     "data": {
      "text/html": [
       "<div>\n",
       "<style scoped>\n",
       "    .dataframe tbody tr th:only-of-type {\n",
       "        vertical-align: middle;\n",
       "    }\n",
       "\n",
       "    .dataframe tbody tr th {\n",
       "        vertical-align: top;\n",
       "    }\n",
       "\n",
       "    .dataframe thead th {\n",
       "        text-align: right;\n",
       "    }\n",
       "</style>\n",
       "<table border=\"1\" class=\"dataframe\">\n",
       "  <thead>\n",
       "    <tr style=\"text-align: right;\">\n",
       "      <th></th>\n",
       "      <th>grid_id</th>\n",
       "      <th>puntos</th>\n",
       "      <th>geometry</th>\n",
       "      <th>metros_vialidad</th>\n",
       "    </tr>\n",
       "  </thead>\n",
       "  <tbody>\n",
       "    <tr>\n",
       "      <th>0</th>\n",
       "      <td>0</td>\n",
       "      <td>0.0</td>\n",
       "      <td>POLYGON ((404331.782 2029252.065, 405331.782 2...</td>\n",
       "      <td>0.0</td>\n",
       "    </tr>\n",
       "    <tr>\n",
       "      <th>1</th>\n",
       "      <td>1</td>\n",
       "      <td>0.0</td>\n",
       "      <td>POLYGON ((404331.782 2030252.065, 405331.782 2...</td>\n",
       "      <td>0.0</td>\n",
       "    </tr>\n",
       "    <tr>\n",
       "      <th>2</th>\n",
       "      <td>2</td>\n",
       "      <td>0.0</td>\n",
       "      <td>POLYGON ((404331.782 2031252.065, 405331.782 2...</td>\n",
       "      <td>0.0</td>\n",
       "    </tr>\n",
       "    <tr>\n",
       "      <th>3</th>\n",
       "      <td>3</td>\n",
       "      <td>0.0</td>\n",
       "      <td>POLYGON ((404331.782 2032252.065, 405331.782 2...</td>\n",
       "      <td>0.0</td>\n",
       "    </tr>\n",
       "    <tr>\n",
       "      <th>4</th>\n",
       "      <td>4</td>\n",
       "      <td>0.0</td>\n",
       "      <td>POLYGON ((404331.782 2033252.065, 405331.782 2...</td>\n",
       "      <td>0.0</td>\n",
       "    </tr>\n",
       "    <tr>\n",
       "      <th>...</th>\n",
       "      <td>...</td>\n",
       "      <td>...</td>\n",
       "      <td>...</td>\n",
       "      <td>...</td>\n",
       "    </tr>\n",
       "    <tr>\n",
       "      <th>50499</th>\n",
       "      <td>50499</td>\n",
       "      <td>0.0</td>\n",
       "      <td>POLYGON ((639331.782 2238252.065, 640331.782 2...</td>\n",
       "      <td>0.0</td>\n",
       "    </tr>\n",
       "    <tr>\n",
       "      <th>50500</th>\n",
       "      <td>50500</td>\n",
       "      <td>1.0</td>\n",
       "      <td>POLYGON ((639331.782 2239252.065, 640331.782 2...</td>\n",
       "      <td>0.0</td>\n",
       "    </tr>\n",
       "    <tr>\n",
       "      <th>50501</th>\n",
       "      <td>50501</td>\n",
       "      <td>0.0</td>\n",
       "      <td>POLYGON ((639331.782 2240252.065, 640331.782 2...</td>\n",
       "      <td>0.0</td>\n",
       "    </tr>\n",
       "    <tr>\n",
       "      <th>50502</th>\n",
       "      <td>50502</td>\n",
       "      <td>0.0</td>\n",
       "      <td>POLYGON ((639331.782 2241252.065, 640331.782 2...</td>\n",
       "      <td>0.0</td>\n",
       "    </tr>\n",
       "    <tr>\n",
       "      <th>50503</th>\n",
       "      <td>50503</td>\n",
       "      <td>0.0</td>\n",
       "      <td>POLYGON ((639331.782 2242252.065, 640331.782 2...</td>\n",
       "      <td>0.0</td>\n",
       "    </tr>\n",
       "  </tbody>\n",
       "</table>\n",
       "<p>50504 rows × 4 columns</p>\n",
       "</div>"
      ],
      "text/plain": [
       "       grid_id  puntos                                           geometry  \\\n",
       "0            0     0.0  POLYGON ((404331.782 2029252.065, 405331.782 2...   \n",
       "1            1     0.0  POLYGON ((404331.782 2030252.065, 405331.782 2...   \n",
       "2            2     0.0  POLYGON ((404331.782 2031252.065, 405331.782 2...   \n",
       "3            3     0.0  POLYGON ((404331.782 2032252.065, 405331.782 2...   \n",
       "4            4     0.0  POLYGON ((404331.782 2033252.065, 405331.782 2...   \n",
       "...        ...     ...                                                ...   \n",
       "50499    50499     0.0  POLYGON ((639331.782 2238252.065, 640331.782 2...   \n",
       "50500    50500     1.0  POLYGON ((639331.782 2239252.065, 640331.782 2...   \n",
       "50501    50501     0.0  POLYGON ((639331.782 2240252.065, 640331.782 2...   \n",
       "50502    50502     0.0  POLYGON ((639331.782 2241252.065, 640331.782 2...   \n",
       "50503    50503     0.0  POLYGON ((639331.782 2242252.065, 640331.782 2...   \n",
       "\n",
       "       metros_vialidad  \n",
       "0                  0.0  \n",
       "1                  0.0  \n",
       "2                  0.0  \n",
       "3                  0.0  \n",
       "4                  0.0  \n",
       "...                ...  \n",
       "50499              0.0  \n",
       "50500              0.0  \n",
       "50501              0.0  \n",
       "50502              0.0  \n",
       "50503              0.0  \n",
       "\n",
       "[50504 rows x 4 columns]"
      ]
     },
     "execution_count": null,
     "metadata": {},
     "output_type": "execute_result"
    }
   ],
   "source": [
    "puntos = gpd.read_file(\"../datos/points_sample.zip\") # Leemos los puntos\n",
    "puntos = puntos.to_crs(32614)\n",
    "red = gpd.read_file(pth_redes) # Leemos las líneas\n",
    "red = red.loc[red.tag_id.isin([104,108,106,101])] # Filtramos las vialidades primarias\n",
    "malla = Malla.desde_capa(puntos, 1000) # Creamos una malla del tamaño de los puntos\n",
    "malla = (malla\n",
    "             .agrega_puntos(puntos, campo=\"puntos\")\n",
    "             .agrega_lineas(red, campo='metros_vialidad')\n",
    "             )\n",
    "malla.datos"
   ]
  },
  {
   "cell_type": "markdown",
   "metadata": {},
   "source": [
    "Podemos ver los rasters"
   ]
  },
  {
   "cell_type": "code",
   "execution_count": null,
   "metadata": {},
   "outputs": [
    {
     "data": {
      "text/plain": [
       "<matplotlib.collections.QuadMesh>"
      ]
     },
     "execution_count": null,
     "metadata": {},
     "output_type": "execute_result"
    },
    {
     "data": {
      "image/png": "[encoded data removed]",
      "text/plain": [
       "<Figure size 640x480 with 2 Axes>"
      ]
     },
     "metadata": {},
     "output_type": "display_data"
    }
   ],
   "source": [
    "cube = malla.to_xarray()\n",
    "cube.metros_vialidad.plot()"
   ]
  },
  {
   "cell_type": "markdown",
   "metadata": {},
   "source": [
    "## DENUE\n",
    "\n",
    "Este módulo provee funcionalidades para trabajar con datos del Directorio Nacional de Unidades Económicas y obtener algunas variables de uso de suelo.\n",
    "\n",
    "Permite seleccionar actividades económicas por clave SCIAN o agregar estas actividades en categorías usando expresiones regulares.\n"
   ]
  }
 ],
 "metadata": {
  "kernelspec": {
   "display_name": "Python 3.10.6 ('pylandusemx')",
   "language": "python",
   "name": "python3"
  }
 },
 "nbformat": 4,
 "nbformat_minor": 4
}
