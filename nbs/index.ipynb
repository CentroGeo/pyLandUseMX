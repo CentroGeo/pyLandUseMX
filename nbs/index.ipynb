{
 "cells": [
  {
   "cell_type": "code",
   "execution_count": null,
   "metadata": {},
   "outputs": [],
   "source": [
    "#| hide\n",
    "import geopandas as gpd\n",
    "from pyLandUseMX.descargas import *\n",
    "from pyLandUseMX.coberturas import *\n",
    "from pyLandUseMX.denue import *"
   ]
  },
  {
   "cell_type": "markdown",
   "metadata": {},
   "source": [
    "# pyLandUseMX\n",
    "\n",
    "> Herramientas para construir, obtener y analizar variables de uso de suelo y estructura urbana en México."
   ]
  },
  {
   "cell_type": "markdown",
   "metadata": {},
   "source": [
    "::: {.content-visible when-format=\"markdown\" }\n",
    "\n",
    "![CI](https://github.com/CentroGeo/pyLandUseMX/actions/workflows/test.yaml/badge.svg)\n",
    "\n",
    "![Docs](https://github.com/CentroGeo/pyLandUseMX/actions/workflows/deploy.yaml/badge.svg)\n",
    "\n",
    ":::"
   ]
  },
  {
   "cell_type": "markdown",
   "metadata": {},
   "source": [
    "El uso de suelo es un insumo básico para diferentes investigaciones en el contexto urbano: criminología, movilidad y diseño urbano, por ejemplo, son campos en los que contar con información sobre el uso real del suelo resulta fundamental para realizar investigaciones cuantitativas. Esta librería busca ofrecer diferentes opciones para construir variables e índices para caracterizar el uso de suelo _real_, es decir el uso observado, en el contexto de las ciudades mexicanas. \n",
    "\n",
    "Además de mediciones sobre uso de suelo, la librería provee métodos para extraer variables de estructura urbana como mezcla e intensidad de uso de suelo. También implementa algunas herramientas básicas de análisis para extraer patrones y relaciones en diferentes escalas.\n",
    "\n",
    "La librería aprovecha diferentes fuentes de datos públicas como el DENUE y el Censo para estimar variables de uso de suelo y su cambio en el tiempo. Provee métodos para definir tipos de uso de suelo y agregarlo en diferentes unidades espaciales: mallas regulares, hexágonos y polígonos arbitrarios (como colonias o AGEBS)."
   ]
  },
  {
   "cell_type": "markdown",
   "metadata": {},
   "source": [
    "## Instalación\n",
    "\n",
    "Por lo pronto, la manera más fácil de instalar la librería es usando `pip` para instalar desde el repositorio. Antes es necesario asegurarse de que las dependencias del sistema están instaladas:\n",
    "\n",
    "* `gdal`\n",
    "* `rtree`\n",
    "* `libgeos`\n",
    "* `proj`\n",
    "\n",
    "En sistemas basados en `apt`:\n",
    "\n",
    "```sh\n",
    "sudo apt-get install -y gdal-bin python3-gdal python3-rtree libspatialindex-dev libgeos-dev libproj-dev\n",
    "```\n",
    "\n",
    "Ya con las dependencias instaladas:\n",
    "\n",
    "```sh\n",
    "pip install git+https://github.com/CentroGeo/pyLandUseMX\n",
    "```\n"
   ]
  },
  {
   "cell_type": "markdown",
   "metadata": {},
   "source": [
    "## Estructura\n",
    "\n",
    "La librería está organizada en torno a dos conceptos básicos: `Cobertura` y `UsoDeSuelo`. Las `Coberturas` son formas de _cubrir_ un área de estudio (una zona metropolitana, por ejemplo) utilizando mallas regulares (cuadrados o hexágonos) o polígonos de forma arbitraria (colonias o AGEBS, por ejemplo). Estas coberturas definen la forma en la que vamos a agregar variables para estudiar el uso de suelo y proveen los métodos para estas agregaciones. El `UsoDeSuelo` integra una `cobertura` y una definición de las variables en torno a categorías definidas por el usuario, a partir de esta integración, la clase `UsoDeSuelo` provee diferentes herramientas para construir diferentes índices y variables a partir de los datos integrados en las coberturas. El módulo análisis provee métodos para analizar el uso de suelo.\n",
    "\n",
    "\n",
    "Además de estos elemementos, la librería también contiene un módulo de `descargas` que permite descargar datos ya procesados que sirven como ejemplo para realizar diferentes tipos de análisis.\n",
    "\n"
   ]
  },
  {
   "cell_type": "markdown",
   "metadata": {},
   "source": [
    "## Módulos"
   ]
  },
  {
   "cell_type": "markdown",
   "metadata": {},
   "source": [
    "### Descargas\n",
    "\n",
    "El módulo de `descargas`, provee funciones para descargar de nuestros repositorios algunas capas que contienen variables relevantes para la extracción y análisis de uso de suelo en México.\n",
    "\n",
    "Las funciónes admiten un _path_ en donde descargar los datos. La documentación completa la encuentras en [API/descargas](api/00_descargas.ipynb)\n",
    "\n",
    "#### Red de transporte\n",
    "\n",
    "Tenemos disponible para descargar un recorte de la red de transporte obtenida de [OpenStreetMap](https://www.openstreetmap.org/) para la región central del país (la Zona Metropolitana del Valle de México). \n",
    "\n",
    "![Vialidades primarias](red.png)\n",
    "\n",
    "#### Polígonos del Sistema Urbano Nacional\n",
    "\n",
    "También tenemos disponibles para descarga los polígonos de las ciudades del [Sistema Urbano Nacional](https://www.gob.mx/conapo/acciones-y-programas/sistema-urbano-nacional-y-zonas-metropolitanas) (SUN) del 2018.  Estos representan los límites de las principales aglomeraciones urbanas del país.\n",
    "\n",
    "##### Colonias CDMX\n",
    "Tenemos una base de colonias para la CDMX basadas en la que se publica en [Datos Abiertos CDMX](https://datos.cdmx.gob.mx/) con algunas correcciones topológicas.\n",
    "\n",
    "\n",
    "#### DENUE\n",
    "\n",
    "Tenemos una base del DENUE integrada para el año 2022 en la Ciudad de México.\n",
    "\n"
   ]
  },
  {
   "cell_type": "markdown",
   "metadata": {},
   "source": [
    "### Coberturas\n",
    "\n",
    "Regularmente para trabajos sobre análisis de uso de suelo y cobertura urbana se parte de la integración de la información en algún soporte espacial. El módulo `coberturas` provee métodos para estructurar las fuentes de datos en dos grandes tipos de soporte:\n",
    "\n",
    "* Mallas regulares\n",
    "* Polígonos arbitrarios\n",
    "\n",
    "::: {layout-ncol=2}\n",
    "\n",
    "![Malla regular](malla.png)\n",
    "\n",
    "![Colonias](poligonos.png)\n",
    "\n",
    ":::"
   ]
  },
  {
   "cell_type": "markdown",
   "metadata": {},
   "source": [
    "Las coberturas nos permiten agregar diferentes tipos de variables en mallas regulares (por ejemplo, a la izquierda la red de calles agregada en un raster) o en polígonos arbitrarios (a la derecha muestra de comercios agregados en colonias)\n",
    "\n",
    "::: {layout-ncol=2}\n",
    "\n",
    "![Red agregada en raster](red_raster.png)\n",
    "\n",
    "![Comercios agregados en colonias](comercios_colonias.png)\n",
    "\n",
    ":::"
   ]
  },
  {
   "cell_type": "markdown",
   "metadata": {},
   "source": [
    "### DENUE\n",
    "\n",
    "Este módulo provee funcionalidades para trabajar con datos del Directorio Nacional de Unidades Económicas y obtener algunas variables de uso de suelo. La clase `Denue` permite seleccionar actividades económicas por clave SCIAN o agregar estas actividades en categorías usando expresiones regulares.\n",
    "\n",
    "\n",
    "::: {.callout-note}\n",
    "\n",
    "En el módulo `descargas` se puede obtener una base para la Ciudad de México con el Denue 2022. La estructura de esa base sirve como ejemplo para utilizar otras bases del Denue con la librería \n",
    "\n",
    ":::"
   ]
  }
 ],
 "metadata": {
  "kernelspec": {
   "display_name": "Python 3.10.6 ('pylandusemx')",
   "language": "python",
   "name": "python3"
  },
  "language_info": {
   "codemirror_mode": {
    "name": "ipython",
    "version": 3
   },
   "file_extension": ".py",
   "mimetype": "text/x-python",
   "name": "python",
   "nbconvert_exporter": "python",
   "pygments_lexer": "ipython3",
   "version": "3.10.6"
  },
  "vscode": {
   "interpreter": {
    "hash": "4c086570c96b822db03763341c1765d1d0bd5bcfdef079663cd1f3c9a89be1d0"
   }
  }
 },
 "nbformat": 4,
 "nbformat_minor": 4
}
