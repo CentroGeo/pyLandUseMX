{
 "cells": [
  {
   "cell_type": "markdown",
   "metadata": {},
   "source": [
    "# descargas\n",
    "\n",
    "> Funciones para descargar, procesar y actualizar las fuentes de datos que se usan en la librería. "
   ]
  },
  {
   "cell_type": "code",
   "execution_count": null,
   "metadata": {},
   "outputs": [],
   "source": [
    "#| default_exp descargas"
   ]
  },
  {
   "cell_type": "code",
   "execution_count": null,
   "metadata": {},
   "outputs": [],
   "source": [
    "#| hide\n",
    "from nbdev.showdoc import *"
   ]
  },
  {
   "cell_type": "code",
   "execution_count": null,
   "metadata": {},
   "outputs": [],
   "source": [
    "#| export\n",
    "import pandas as pd\n",
    "import geopandas as gpd\n",
    "import requests\n",
    "import xml.etree.ElementTree as ET\n",
    "import os\n",
    "from zipfile import ZipFile\n",
    "import shutil\n",
    "from pathlib import Path\n",
    "\n",
    "DOWNLOADS_PATH = os.path.abspath(\"../datos/descargas/\")"
   ]
  },
  {
   "cell_type": "markdown",
   "metadata": {},
   "source": [
    "## descarga_denue\n",
    "\n",
    "Esta función descarga diferentes bases preprocesadas del DENUE. En general el procesamiento involucra integrar los sectores en una base única y homogeneizar los nombres de los campos.\n",
    "\n",
    "La función admite un parámetro que controla cuál base se descarga, toma en cuenta que la base completa es MUY grande.\n"
   ]
  },
  {
   "cell_type": "code",
   "execution_count": null,
   "metadata": {},
   "outputs": [],
   "source": [
    "#| export\n",
    "def descarga_denue(\n",
    "        tipo:str='zmvm_2022' # Qué archivo vamos a descargar: ejemplo, zmvm_2022, zmvm_full, mexico_2022, mexico_full\n",
    "    ) -> None:\n",
    "    Path(DOWNLOADS_PATH).mkdir(parents=True, exist_ok=True)\n",
    "    if tipo == 'zmvm_2022':\n",
    "        fname = 'denue_2022_zmvm.gpkg'\n",
    "        url = 'https://www.dropbox.com/s/cxyekc0wzzq6pc4/denue_2022_zmvm.gpkg?dl=1'\n",
    "    elif tipo == 'ejemplo':\n",
    "        fname = 'ejemplo_denue.gpkg'\n",
    "        url = 'https://www.dropbox.com/s/670yx6un0t4sqal/ejemplo_denue.gpkg?dl=1'\n",
    "    else:\n",
    "        print(f'El tipo {tipo} todavía no está implementado')\n",
    "        return\n",
    "    absp = os.path.abspath(os.path.join(DOWNLOADS_PATH, fname))\n",
    "    if os.path.exists(absp):\n",
    "        print(\"El archivo ya está descargado\")\n",
    "    else:\n",
    "        r = requests.get(url, allow_redirects=True)\n",
    "        open(absp, 'wb').write(r.content)\n",
    "    return absp\n",
    "    \n"
   ]
  },
  {
   "cell_type": "code",
   "execution_count": null,
   "metadata": {},
   "outputs": [
    {
     "name": "stdout",
     "output_type": "stream",
     "text": [
      "El archivo ya está descargado\n",
      "El archivo ya está descargado\n"
     ]
    },
    {
     "data": {
      "text/plain": [
       "'/home/plablo/git/pyLandUseMX/datos/descargas/ejemplo_denue.gpkg'"
      ]
     },
     "execution_count": null,
     "metadata": {},
     "output_type": "execute_result"
    }
   ],
   "source": [
    "pth = descarga_denue()\n",
    "pth = descarga_denue('ejemplo')\n",
    "pth"
   ]
  },
  {
   "cell_type": "markdown",
   "metadata": {},
   "source": [
    "## descarga_redes\n",
    "\n",
    "Esta función descarga un Geopackage con la red de transporte importada de [OpenStreetMap](https://www.openstreetmap.org/#map=5/23.944/-102.579).\n",
    "\n",
    "**Nota:** En este momento la red sólo está disponible para la Zona Metropolitana de la Ciudad de México."
   ]
  },
  {
   "cell_type": "code",
   "execution_count": null,
   "metadata": {},
   "outputs": [],
   "source": [
    "#| export\n",
    "def descarga_redes():\n",
    "    Path(DOWNLOADS_PATH).mkdir(parents=True, exist_ok=True)\n",
    "    fname = 'red_zmvm.gpkg'\n",
    "    absp = os.path.abspath(os.path.join(DOWNLOADS_PATH, fname))\n",
    "    if os.path.exists(absp):\n",
    "        print(\"El archivo ya está descargado\")\n",
    "    else:\n",
    "        url = 'https://www.dropbox.com/s/0fq8e8v2axyxxoc/red_zmvm.gpkg?dl=1'\n",
    "        r = requests.get(url, allow_redirects=True)\n",
    "        open(absp, 'wb').write(r.content)\n",
    "    return absp"
   ]
  },
  {
   "cell_type": "code",
   "execution_count": null,
   "metadata": {},
   "outputs": [
    {
     "name": "stdout",
     "output_type": "stream",
     "text": [
      "El archivo ya está descargado\n"
     ]
    },
    {
     "data": {
      "text/plain": [
       "'/home/plablo/git/pyLandUseMX/datos/descargas/red_zmvm.gpkg'"
      ]
     },
     "execution_count": null,
     "metadata": {},
     "output_type": "execute_result"
    }
   ],
   "source": [
    "pth = descarga_redes()\n",
    "pth"
   ]
  },
  {
   "cell_type": "markdown",
   "metadata": {},
   "source": [
    "## descarga_poligonos_ciudades\n",
    "\n",
    "Esta función descarga las slhuetas de las 100 ciudades más grandes de México (SUN, 2016)"
   ]
  },
  {
   "cell_type": "code",
   "execution_count": null,
   "metadata": {},
   "outputs": [],
   "source": [
    "#| export\n",
    "def descarga_poligonos_ciudades():\n",
    "    Path(DOWNLOADS_PATH).mkdir(parents=True, exist_ok=True)\n",
    "    fname = 'silhuetas.shp.zip'\n",
    "    absp = os.path.abspath(os.path.join(DOWNLOADS_PATH, fname))\n",
    "    if os.path.exists(absp):\n",
    "        print(\"El archivo ya está descargado\")\n",
    "    else:\n",
    "        url = 'https://www.dropbox.com/s/kofmn5qws911ktg/silhueta_100_ciudades.zip?dl=1'\n",
    "        r = requests.get(url, allow_redirects=True)\n",
    "        open(absp, 'wb').write(r.content)\n",
    "    return absp"
   ]
  },
  {
   "cell_type": "code",
   "execution_count": null,
   "metadata": {},
   "outputs": [
    {
     "name": "stdout",
     "output_type": "stream",
     "text": [
      "El archivo ya está descargado\n"
     ]
    },
    {
     "data": {
      "text/plain": [
       "'/home/plablo/git/pyLandUseMX/datos/descargas/silhuetas.shp.zip'"
      ]
     },
     "execution_count": null,
     "metadata": {},
     "output_type": "execute_result"
    }
   ],
   "source": [
    "pth = descarga_poligonos_ciudades()\n",
    "pth"
   ]
  },
  {
   "cell_type": "markdown",
   "metadata": {},
   "source": [
    "## descarga_colonias_cdmx"
   ]
  },
  {
   "cell_type": "code",
   "execution_count": null,
   "metadata": {},
   "outputs": [],
   "source": [
    "#| export\n",
    "def descarga_colonias_cdmx():\n",
    "    Path(DOWNLOADS_PATH).mkdir(parents=True, exist_ok=True)\n",
    "    fname = 'colonias_cdmx.zip'\n",
    "    absp = os.path.abspath(os.path.join(DOWNLOADS_PATH, fname))\n",
    "    if os.path.exists(DOWNLOADS_PATH + fname):\n",
    "        print(\"El archivo ya está descargado\")\n",
    "    else:\n",
    "        url = 'https://www.dropbox.com/s/6dbyk1izvlub3xv/colonias_cdmx.zip?dl=1'\n",
    "        r = requests.get(url, allow_redirects=True)\n",
    "        open(absp, 'wb').write(r.content)\n",
    "    return absp"
   ]
  },
  {
   "cell_type": "code",
   "execution_count": null,
   "metadata": {},
   "outputs": [
    {
     "data": {
      "text/plain": [
       "'/home/plablo/git/pyLandUseMX/datos/descargas/colonias_cdmx.zip'"
      ]
     },
     "execution_count": null,
     "metadata": {},
     "output_type": "execute_result"
    }
   ],
   "source": [
    "pth = descarga_colonias_cdmx()\n",
    "pth"
   ]
  },
  {
   "cell_type": "markdown",
   "metadata": {},
   "source": [
    "## descarga_datos_completos\n",
    "\n",
    "Esta función llama a todas las anmteriores para descargar todos los datos."
   ]
  },
  {
   "cell_type": "code",
   "execution_count": null,
   "metadata": {},
   "outputs": [],
   "source": [
    "#| export\n",
    "def descarga_datos_completos():\n",
    "    descarga_poligonos_ciudades()\n",
    "    descarga_redes()"
   ]
  },
  {
   "cell_type": "markdown",
   "metadata": {},
   "source": [
    "descarga_datos_completos()"
   ]
  },
  {
   "cell_type": "code",
   "execution_count": null,
   "metadata": {},
   "outputs": [],
   "source": [
    "#| hide\n",
    "import nbdev; nbdev.nbdev_export()"
   ]
  }
 ],
 "metadata": {
  "kernelspec": {
   "display_name": "Python 3.10.6 ('pylandusemx')",
   "language": "python",
   "name": "python3"
  }
 },
 "nbformat": 4,
 "nbformat_minor": 4
}
