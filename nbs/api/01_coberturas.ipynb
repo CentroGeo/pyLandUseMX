{
 "cells": [
  {
   "cell_type": "markdown",
   "metadata": {},
   "source": [
    "# Coberturas\n",
    "\n",
    "> Clases y métodos para trabajar con diferentes coberturas del medio urbano."
   ]
  },
  {
   "cell_type": "code",
   "execution_count": 1,
   "metadata": {
    "vscode": {
     "languageId": "python"
    }
   },
   "outputs": [],
   "source": [
    "#| default_exp coberturas"
   ]
  },
  {
   "cell_type": "code",
   "execution_count": 2,
   "metadata": {
    "vscode": {
     "languageId": "python"
    }
   },
   "outputs": [],
   "source": [
    "#| hide\n",
    "from nbdev.showdoc import *"
   ]
  },
  {
   "cell_type": "code",
   "execution_count": 3,
   "metadata": {
    "vscode": {
     "languageId": "python"
    }
   },
   "outputs": [],
   "source": [
    "#| export\n",
    "from abc import ABC, abstractmethod\n",
    "from fastcore.basics import *\n",
    "import matplotlib.pyplot as plt\n",
    "import pandas as pd\n",
    "import geopandas as gpd\n",
    "from shapely.geometry import Polygon\n",
    "from geocube.api.core import make_geocube\n",
    "import numpy as np\n",
    "from pyLandUseMX.descargas import *\n",
    "from pyLandUseMX.denue import *\n",
    "import warnings\n",
    "import random"
   ]
  },
  {
   "cell_type": "code",
   "execution_count": 4,
   "metadata": {
    "vscode": {
     "languageId": "python"
    }
   },
   "outputs": [],
   "source": [
    "%load_ext autoreload\n",
    "%autoreload 2"
   ]
  },
  {
   "cell_type": "markdown",
   "metadata": {},
   "source": [
    "Para trabajar con datos sobre uso de suelo y estructura urbana, necesitamos definir la _cobertura_ sobre la que vamos a trabajar. Una _cobertura_ es, en general, un conjunto de polígonos que _cubren_ nuestro espacio de estudio. Podemos pensar que existen dos tipos generales de coberturas: regulares e irregulares. Las coberturas regulares cubren el espacio utilizando siempre la misma figura, como en el caso de las mallas rectangulares o hexagonales, por otro lado, las coberturas irregulares cubren el espacio con polígonos arbitrarios, como en el caso de los municipios, AGEBS o colonias. \n",
    "\n",
    "Este módulo incluye las clases y los métodos que nos permiten trabajar con estos diferentes tipos de coberturas. Para su implementación, primero definimos la _clase abstracta_ `Cobertura` que sólo contiene el _template_ para definir las implementaciones específicas de mallas regulares y polígonos arbitrarios."
   ]
  },
  {
   "cell_type": "code",
   "execution_count": 5,
   "metadata": {
    "vscode": {
     "languageId": "python"
    }
   },
   "outputs": [],
   "source": [
    "#| export\n",
    "class Cobertura(ABC):\n",
    "    \"\"\"Clase abstracta que define la interfaz para los diferentes tipos de cobertura.\"\"\"\n",
    "    @abstractmethod\n",
    "    def agrega_puntos(self,\n",
    "                      puntos:gpd.GeoDataFrame,\n",
    "                      campo:str,\n",
    "                      clasificacion:str\n",
    "        ):\n",
    "        \"\"\" Debe proveer la funcionalidad para agregar puntos en los elementos de la cobertura.\"\"\"\n",
    "        pass\n",
    "\n",
    "    @abstractmethod\n",
    "    def agrega_lineas(self,\n",
    "                      lineas:gpd.GeoDataFrame,\n",
    "                      campo:str\n",
    "        ):\n",
    "        \"\"\" Debe proveer la funcionalidad para agregar líneas en los elementos de la cobertura.\"\"\"\n",
    "        pass"
   ]
  },
  {
   "cell_type": "markdown",
   "metadata": {},
   "source": [
    "## Mallas\n",
    "Algunos tipos de análisis, como las regresiones de uso de suelo para contaminantes atomsféricos, utilizan datos de uso de suelo en mallas. Para este tipo de aplicaciones la librería provee un conjunto de herramientas para crear mallas y agregar datos en ellas.\n",
    "\n",
    "El primer elemento de este módulo es una Clase para contener la funcionalidad que vamos a implementar. Vamos a comenzar por definir la estructura básica de la clase y luego iremos agregando funcionalidad."
   ]
  },
  {
   "cell_type": "code",
   "execution_count": 6,
   "metadata": {
    "vscode": {
     "languageId": "python"
    }
   },
   "outputs": [],
   "source": [
    "#| export\n",
    "\n",
    "class Malla(Cobertura):\n",
    "    \"\"\" Representa una malla para procesar variables de uso de suelo.\"\"\"\n",
    "    def __init__ (self,\n",
    "                  datos:gpd.GeoDataFrame=None, # La malla vectorial\n",
    "                  size:float=1000, # Tamaño de los elementos de la malla (en las unidades de la proyección de `layer`)\n",
    "        ) -> None:\n",
    "        self.size = size\n",
    "        self.datos = datos\n",
    "        self.crs = datos.crs\n",
    "    \n",
    "    @classmethod\n",
    "    def desde_capa(cls, \n",
    "                  capa:gpd.GeoDataFrame, # La capa que define la extensión de la malla \n",
    "                  size:float # Tamaño de la malla en unidades de la proyección\n",
    "        ):\n",
    "        xmin, ymin, xmax, ymax = capa.total_bounds\n",
    "        cols = list(np.arange(xmin, xmax + size, size))\n",
    "        rows = list(np.arange(ymin, ymax + size, size))\n",
    "\n",
    "        polygons = []\n",
    "        for x in cols[:-1]:\n",
    "            for y in rows[:-1]:\n",
    "                polygons.append(Polygon([(x,y), (x + size, y), (x + size, y + size), (x, y + size)]))\n",
    "\n",
    "        grid = (gpd\n",
    "            .GeoDataFrame({'geometry':polygons})\n",
    "            .set_crs(capa.crs)\n",
    "            .reset_index()\n",
    "            .rename({'index':'grid_id'}, axis=1))\n",
    "        malla = cls(grid, size)\n",
    "        return malla\n",
    "\n",
    "    def agrega_lineas(self, lineas: gpd.GeoDataFrame, campo: str=None):\n",
    "        pass\n",
    "    \n",
    "    def agrega_puntos(self, puntos: gpd.GeoDataFrame, campo: str=None, clasificacion: str=None):\n",
    "        pass"
   ]
  },
  {
   "cell_type": "markdown",
   "metadata": {},
   "source": [
    "La clase `Malla` contiene dos campos: `size` y `datos` con el tamaño de los elementos de la retícula y el `GeoDataFrame` con los polígonos de la malla respectivamente. Por lo pronto la clase sólo tiene un _classmethod_ que nos permite construir un objeto a partir de una capa vectorial: "
   ]
  },
  {
   "cell_type": "code",
   "execution_count": 7,
   "metadata": {
    "vscode": {
     "languageId": "python"
    }
   },
   "outputs": [
    {
     "data": {
      "text/markdown": [
       "---\n",
       "\n",
       "[source](https://github.com/CentroGeo/pyLandUseMX/blob/master/pyLandUseMX/coberturas.py#L52){target=\"_blank\" style=\"float:right; font-size:smaller\"}\n",
       "\n",
       "### Malla.desde_capa\n",
       "\n",
       ">      Malla.desde_capa (capa:geopandas.geodataframe.GeoDataFrame, size:float)\n",
       "\n",
       "|    | **Type** | **Details** |\n",
       "| -- | -------- | ----------- |\n",
       "| capa | GeoDataFrame | La capa que define la extensión de la malla |\n",
       "| size | float | Tamaño de la malla en unidades de la proyección |"
      ],
      "text/plain": [
       "---\n",
       "\n",
       "[source](https://github.com/CentroGeo/pyLandUseMX/blob/master/pyLandUseMX/coberturas.py#L52){target=\"_blank\" style=\"float:right; font-size:smaller\"}\n",
       "\n",
       "### Malla.desde_capa\n",
       "\n",
       ">      Malla.desde_capa (capa:geopandas.geodataframe.GeoDataFrame, size:float)\n",
       "\n",
       "|    | **Type** | **Details** |\n",
       "| -- | -------- | ----------- |\n",
       "| capa | GeoDataFrame | La capa que define la extensión de la malla |\n",
       "| size | float | Tamaño de la malla en unidades de la proyección |"
      ]
     },
     "execution_count": 7,
     "metadata": {},
     "output_type": "execute_result"
    }
   ],
   "source": [
    "show_doc(Malla.desde_capa)"
   ]
  },
  {
   "cell_type": "code",
   "execution_count": 8,
   "metadata": {
    "vscode": {
     "languageId": "python"
    }
   },
   "outputs": [
    {
     "name": "stdout",
     "output_type": "stream",
     "text": [
      "El archivo ya está descargado\n"
     ]
    },
    {
     "data": {
      "text/plain": [
       "<AxesSubplot:>"
      ]
     },
     "execution_count": 8,
     "metadata": {},
     "output_type": "execute_result"
    },
    {
     "data": {
      "image/png": "[encoded data removed]",
      "text/plain": [
       "<Figure size 640x480 with 1 Axes>"
      ]
     },
     "metadata": {},
     "output_type": "display_data"
    }
   ],
   "source": [
    "pth = descarga_poligonos_ciudades()\n",
    "zmvm = gpd.read_file(pth)\n",
    "zmvm = zmvm.loc[zmvm.CVE_SUN == '13']\n",
    "malla = Malla.desde_capa(zmvm, 1000)\n",
    "malla.datos.plot()"
   ]
  },
  {
   "cell_type": "markdown",
   "metadata": {},
   "source": [
    "Podemos ver la malla superpuesta al polígono que usamos para construirla:"
   ]
  },
  {
   "cell_type": "code",
   "execution_count": 9,
   "metadata": {
    "vscode": {
     "languageId": "python"
    }
   },
   "outputs": [
    {
     "data": {
      "text/plain": [
       "<AxesSubplot:>"
      ]
     },
     "execution_count": 9,
     "metadata": {},
     "output_type": "execute_result"
    },
    {
     "data": {
      "image/png": "[encoded data removed]",
      "text/plain": [
       "<Figure size 800x800 with 1 Axes>"
      ]
     },
     "metadata": {},
     "output_type": "display_data"
    }
   ],
   "source": [
    "fig, ax = plt.subplots(figsize=(8, 8))\n",
    "zmvm.plot(ax=ax)\n",
    "malla.datos.boundary.plot(ax=ax, edgecolor=\"black\", linewidth=0.1)"
   ]
  },
  {
   "cell_type": "markdown",
   "metadata": {},
   "source": [
    "### Agregar puntos en la malla\n",
    "\n",
    "Ahora vamos a agregar la funcionalidad para agregar una capa de puntos en la Malla.\n",
    "\n",
    "**Nota:** el decorador `@patch` de `fastcore.basics` nos permite fácilmente agregar funcionalidad a una clase ya definida."
   ]
  },
  {
   "cell_type": "code",
   "execution_count": 10,
   "metadata": {
    "vscode": {
     "languageId": "python"
    }
   },
   "outputs": [],
   "source": [
    "#| export\n",
    "@patch\n",
    "def agrega_puntos(self:Malla,\n",
    "                  puntos:gpd.GeoDataFrame, # La malla en la que se va a agregar\n",
    "                  campo: str='cuenta', # Nombre del campo en el que se guarda el resultado\n",
    "                  clasificacion: str=None, # Columna de `puntos` que clasifica a las observaciones (ignora `campo`) \n",
    "                  pesos:str=None # Columna con pesos para las unidades \n",
    "    ) -> Malla:\n",
    "    \"\"\" Regresa una `Malla` con los conteos de puntos en cada elemento.\"\"\"\n",
    "    if self.crs != puntos.crs:\n",
    "        puntos = puntos.to_crs(self.crs)\n",
    "    if 'index_right' in puntos.columns:\n",
    "        puntos = puntos.drop(columns='index_right')\n",
    "    \n",
    "    cols_agrupa = ['grid_id']\n",
    "    if clasificacion is not None:\n",
    "        cols_agrupa.append(clasificacion)\n",
    "    \n",
    "    if pesos is None:\n",
    "        # Tenemos que seleccionar una columna calquiera pero que no sea clasificacion\n",
    "        columnas = list(puntos.columns)\n",
    "        columnas.remove(clasificacion) if clasificacion in columnas else None\n",
    "        c = random.choice(columnas)\n",
    "        agregador = {c: 'count'}\n",
    "    else:\n",
    "        c = pesos\n",
    "        agregador = {pesos: 'sum'}\n",
    "\n",
    "    agregado = (puntos\n",
    "                .sjoin(self.datos)\n",
    "                .groupby(cols_agrupa)\n",
    "                .aggregate(agregador)\n",
    "                .reset_index()\n",
    "                )\n",
    "    if clasificacion is not None:\n",
    "        agregado = agregado.pivot(index='grid_id', columns=clasificacion, values=c)\n",
    "    else:\n",
    "        agregado = agregado.rename({c:campo}, axis=1)\n",
    "    agregado = agregado.merge(self.datos, on='grid_id', how='right').fillna(0)\n",
    "    agregado = gpd.GeoDataFrame(agregado).set_crs(self.crs)\n",
    "    m = Malla(agregado, self.size)\n",
    "    return m"
   ]
  },
  {
   "cell_type": "markdown",
   "metadata": {},
   "source": [
    "La forma más sencilla de usar este método es simplemente agregar _todos_ los puntos de una capa en la `Malla`."
   ]
  },
  {
   "cell_type": "code",
   "execution_count": 11,
   "metadata": {
    "vscode": {
     "languageId": "python"
    }
   },
   "outputs": [
    {
     "name": "stdout",
     "output_type": "stream",
     "text": [
      "El archivo ya está descargado\n"
     ]
    },
    {
     "data": {
      "text/html": [
       "<div>\n",
       "<style scoped>\n",
       "    .dataframe tbody tr th:only-of-type {\n",
       "        vertical-align: middle;\n",
       "    }\n",
       "\n",
       "    .dataframe tbody tr th {\n",
       "        vertical-align: top;\n",
       "    }\n",
       "\n",
       "    .dataframe thead th {\n",
       "        text-align: right;\n",
       "    }\n",
       "</style>\n",
       "<table border=\"1\" class=\"dataframe\">\n",
       "  <thead>\n",
       "    <tr style=\"text-align: right;\">\n",
       "      <th></th>\n",
       "      <th>grid_id</th>\n",
       "      <th>puntos</th>\n",
       "      <th>geometry</th>\n",
       "    </tr>\n",
       "  </thead>\n",
       "  <tbody>\n",
       "    <tr>\n",
       "      <th>0</th>\n",
       "      <td>0</td>\n",
       "      <td>0.0</td>\n",
       "      <td>POLYGON ((2745631.810 774927.105, 2746631.810 ...</td>\n",
       "    </tr>\n",
       "    <tr>\n",
       "      <th>1</th>\n",
       "      <td>1</td>\n",
       "      <td>0.0</td>\n",
       "      <td>POLYGON ((2745631.810 775927.105, 2746631.810 ...</td>\n",
       "    </tr>\n",
       "    <tr>\n",
       "      <th>2</th>\n",
       "      <td>2</td>\n",
       "      <td>0.0</td>\n",
       "      <td>POLYGON ((2745631.810 776927.105, 2746631.810 ...</td>\n",
       "    </tr>\n",
       "    <tr>\n",
       "      <th>3</th>\n",
       "      <td>3</td>\n",
       "      <td>0.0</td>\n",
       "      <td>POLYGON ((2745631.810 777927.105, 2746631.810 ...</td>\n",
       "    </tr>\n",
       "    <tr>\n",
       "      <th>4</th>\n",
       "      <td>4</td>\n",
       "      <td>0.0</td>\n",
       "      <td>POLYGON ((2745631.810 778927.105, 2746631.810 ...</td>\n",
       "    </tr>\n",
       "    <tr>\n",
       "      <th>...</th>\n",
       "      <td>...</td>\n",
       "      <td>...</td>\n",
       "      <td>...</td>\n",
       "    </tr>\n",
       "    <tr>\n",
       "      <th>13745</th>\n",
       "      <td>13745</td>\n",
       "      <td>0.0</td>\n",
       "      <td>POLYGON ((2854631.810 894927.105, 2855631.810 ...</td>\n",
       "    </tr>\n",
       "    <tr>\n",
       "      <th>13746</th>\n",
       "      <td>13746</td>\n",
       "      <td>0.0</td>\n",
       "      <td>POLYGON ((2854631.810 895927.105, 2855631.810 ...</td>\n",
       "    </tr>\n",
       "    <tr>\n",
       "      <th>13747</th>\n",
       "      <td>13747</td>\n",
       "      <td>0.0</td>\n",
       "      <td>POLYGON ((2854631.810 896927.105, 2855631.810 ...</td>\n",
       "    </tr>\n",
       "    <tr>\n",
       "      <th>13748</th>\n",
       "      <td>13748</td>\n",
       "      <td>0.0</td>\n",
       "      <td>POLYGON ((2854631.810 897927.105, 2855631.810 ...</td>\n",
       "    </tr>\n",
       "    <tr>\n",
       "      <th>13749</th>\n",
       "      <td>13749</td>\n",
       "      <td>0.0</td>\n",
       "      <td>POLYGON ((2854631.810 898927.105, 2855631.810 ...</td>\n",
       "    </tr>\n",
       "  </tbody>\n",
       "</table>\n",
       "<p>13750 rows × 3 columns</p>\n",
       "</div>"
      ],
      "text/plain": [
       "       grid_id  puntos                                           geometry\n",
       "0            0     0.0  POLYGON ((2745631.810 774927.105, 2746631.810 ...\n",
       "1            1     0.0  POLYGON ((2745631.810 775927.105, 2746631.810 ...\n",
       "2            2     0.0  POLYGON ((2745631.810 776927.105, 2746631.810 ...\n",
       "3            3     0.0  POLYGON ((2745631.810 777927.105, 2746631.810 ...\n",
       "4            4     0.0  POLYGON ((2745631.810 778927.105, 2746631.810 ...\n",
       "...        ...     ...                                                ...\n",
       "13745    13745     0.0  POLYGON ((2854631.810 894927.105, 2855631.810 ...\n",
       "13746    13746     0.0  POLYGON ((2854631.810 895927.105, 2855631.810 ...\n",
       "13747    13747     0.0  POLYGON ((2854631.810 896927.105, 2855631.810 ...\n",
       "13748    13748     0.0  POLYGON ((2854631.810 897927.105, 2855631.810 ...\n",
       "13749    13749     0.0  POLYGON ((2854631.810 898927.105, 2855631.810 ...\n",
       "\n",
       "[13750 rows x 3 columns]"
      ]
     },
     "execution_count": 11,
     "metadata": {},
     "output_type": "execute_result"
    }
   ],
   "source": [
    "pth = descarga_denue('ejemplo')\n",
    "puntos = gpd.read_file(pth)\n",
    "agregado = malla.agrega_puntos(puntos, campo=\"puntos\")\n",
    "agregado.datos"
   ]
  },
  {
   "cell_type": "markdown",
   "metadata": {},
   "source": [
    "La función regresa una copia del objeto original con el nuevo campo, el objeto original no se modifica:"
   ]
  },
  {
   "cell_type": "code",
   "execution_count": 12,
   "metadata": {
    "vscode": {
     "languageId": "python"
    }
   },
   "outputs": [
    {
     "data": {
      "text/html": [
       "<div>\n",
       "<style scoped>\n",
       "    .dataframe tbody tr th:only-of-type {\n",
       "        vertical-align: middle;\n",
       "    }\n",
       "\n",
       "    .dataframe tbody tr th {\n",
       "        vertical-align: top;\n",
       "    }\n",
       "\n",
       "    .dataframe thead th {\n",
       "        text-align: right;\n",
       "    }\n",
       "</style>\n",
       "<table border=\"1\" class=\"dataframe\">\n",
       "  <thead>\n",
       "    <tr style=\"text-align: right;\">\n",
       "      <th></th>\n",
       "      <th>grid_id</th>\n",
       "      <th>geometry</th>\n",
       "    </tr>\n",
       "  </thead>\n",
       "  <tbody>\n",
       "    <tr>\n",
       "      <th>0</th>\n",
       "      <td>0</td>\n",
       "      <td>POLYGON ((2745631.810 774927.105, 2746631.810 ...</td>\n",
       "    </tr>\n",
       "    <tr>\n",
       "      <th>1</th>\n",
       "      <td>1</td>\n",
       "      <td>POLYGON ((2745631.810 775927.105, 2746631.810 ...</td>\n",
       "    </tr>\n",
       "    <tr>\n",
       "      <th>2</th>\n",
       "      <td>2</td>\n",
       "      <td>POLYGON ((2745631.810 776927.105, 2746631.810 ...</td>\n",
       "    </tr>\n",
       "    <tr>\n",
       "      <th>3</th>\n",
       "      <td>3</td>\n",
       "      <td>POLYGON ((2745631.810 777927.105, 2746631.810 ...</td>\n",
       "    </tr>\n",
       "    <tr>\n",
       "      <th>4</th>\n",
       "      <td>4</td>\n",
       "      <td>POLYGON ((2745631.810 778927.105, 2746631.810 ...</td>\n",
       "    </tr>\n",
       "    <tr>\n",
       "      <th>...</th>\n",
       "      <td>...</td>\n",
       "      <td>...</td>\n",
       "    </tr>\n",
       "    <tr>\n",
       "      <th>13745</th>\n",
       "      <td>13745</td>\n",
       "      <td>POLYGON ((2854631.810 894927.105, 2855631.810 ...</td>\n",
       "    </tr>\n",
       "    <tr>\n",
       "      <th>13746</th>\n",
       "      <td>13746</td>\n",
       "      <td>POLYGON ((2854631.810 895927.105, 2855631.810 ...</td>\n",
       "    </tr>\n",
       "    <tr>\n",
       "      <th>13747</th>\n",
       "      <td>13747</td>\n",
       "      <td>POLYGON ((2854631.810 896927.105, 2855631.810 ...</td>\n",
       "    </tr>\n",
       "    <tr>\n",
       "      <th>13748</th>\n",
       "      <td>13748</td>\n",
       "      <td>POLYGON ((2854631.810 897927.105, 2855631.810 ...</td>\n",
       "    </tr>\n",
       "    <tr>\n",
       "      <th>13749</th>\n",
       "      <td>13749</td>\n",
       "      <td>POLYGON ((2854631.810 898927.105, 2855631.810 ...</td>\n",
       "    </tr>\n",
       "  </tbody>\n",
       "</table>\n",
       "<p>13750 rows × 2 columns</p>\n",
       "</div>"
      ],
      "text/plain": [
       "       grid_id                                           geometry\n",
       "0            0  POLYGON ((2745631.810 774927.105, 2746631.810 ...\n",
       "1            1  POLYGON ((2745631.810 775927.105, 2746631.810 ...\n",
       "2            2  POLYGON ((2745631.810 776927.105, 2746631.810 ...\n",
       "3            3  POLYGON ((2745631.810 777927.105, 2746631.810 ...\n",
       "4            4  POLYGON ((2745631.810 778927.105, 2746631.810 ...\n",
       "...        ...                                                ...\n",
       "13745    13745  POLYGON ((2854631.810 894927.105, 2855631.810 ...\n",
       "13746    13746  POLYGON ((2854631.810 895927.105, 2855631.810 ...\n",
       "13747    13747  POLYGON ((2854631.810 896927.105, 2855631.810 ...\n",
       "13748    13748  POLYGON ((2854631.810 897927.105, 2855631.810 ...\n",
       "13749    13749  POLYGON ((2854631.810 898927.105, 2855631.810 ...\n",
       "\n",
       "[13750 rows x 2 columns]"
      ]
     },
     "execution_count": 12,
     "metadata": {},
     "output_type": "execute_result"
    }
   ],
   "source": [
    "malla.datos"
   ]
  },
  {
   "cell_type": "markdown",
   "metadata": {},
   "source": [
    "Podemos hacer un mapa de estos puntos agregados en la malla:"
   ]
  },
  {
   "cell_type": "code",
   "execution_count": 13,
   "metadata": {
    "vscode": {
     "languageId": "python"
    }
   },
   "outputs": [
    {
     "data": {
      "text/plain": [
       "<AxesSubplot:>"
      ]
     },
     "execution_count": 13,
     "metadata": {},
     "output_type": "execute_result"
    },
    {
     "data": {
      "image/png": "[encoded data removed]",
      "text/plain": [
       "<Figure size 640x480 with 1 Axes>"
      ]
     },
     "metadata": {},
     "output_type": "display_data"
    }
   ],
   "source": [
    "agregado.datos.plot('puntos')"
   ]
  },
  {
   "cell_type": "markdown",
   "metadata": {},
   "source": [
    "También es posible agregar los puntos de acuerdo a una clasificación previa. Por ejemplo, supongamos que tenemos datos del DENUE clasificados en tipos de usos de suelo como en el módulo `denue`."
   ]
  },
  {
   "cell_type": "code",
   "execution_count": 14,
   "metadata": {
    "vscode": {
     "languageId": "python"
    }
   },
   "outputs": [
    {
     "name": "stdout",
     "output_type": "stream",
     "text": [
      "El archivo ya está descargado\n"
     ]
    },
    {
     "data": {
      "text/html": [
       "<div>\n",
       "<style scoped>\n",
       "    .dataframe tbody tr th:only-of-type {\n",
       "        vertical-align: middle;\n",
       "    }\n",
       "\n",
       "    .dataframe tbody tr th {\n",
       "        vertical-align: top;\n",
       "    }\n",
       "\n",
       "    .dataframe thead th {\n",
       "        text-align: right;\n",
       "    }\n",
       "</style>\n",
       "<table border=\"1\" class=\"dataframe\">\n",
       "  <thead>\n",
       "    <tr style=\"text-align: right;\">\n",
       "      <th></th>\n",
       "      <th>nom_estab</th>\n",
       "      <th>codigo_act</th>\n",
       "      <th>Categoria</th>\n",
       "    </tr>\n",
       "  </thead>\n",
       "  <tbody>\n",
       "    <tr>\n",
       "      <th>1</th>\n",
       "      <td>TIENDA NATURISTA EL ARTE DE LA NATURALEZA</td>\n",
       "      <td>464113</td>\n",
       "      <td>Comercio</td>\n",
       "    </tr>\n",
       "    <tr>\n",
       "      <th>3</th>\n",
       "      <td>SIN NOMBRE</td>\n",
       "      <td>461130</td>\n",
       "      <td>Comercio</td>\n",
       "    </tr>\n",
       "    <tr>\n",
       "      <th>4</th>\n",
       "      <td>ADMINISTRACION MERCADO CONCENTRACION VOCEADORES</td>\n",
       "      <td>531311</td>\n",
       "      <td>Oficinas</td>\n",
       "    </tr>\n",
       "    <tr>\n",
       "      <th>6</th>\n",
       "      <td>ABARROTES LA TIA</td>\n",
       "      <td>461110</td>\n",
       "      <td>Comercio</td>\n",
       "    </tr>\n",
       "    <tr>\n",
       "      <th>7</th>\n",
       "      <td>BIZUTERIA SIN NOMBRE</td>\n",
       "      <td>463215</td>\n",
       "      <td>Comercio</td>\n",
       "    </tr>\n",
       "  </tbody>\n",
       "</table>\n",
       "</div>"
      ],
      "text/plain": [
       "                                         nom_estab codigo_act Categoria\n",
       "1        TIENDA NATURISTA EL ARTE DE LA NATURALEZA     464113  Comercio\n",
       "3                                       SIN NOMBRE     461130  Comercio\n",
       "4  ADMINISTRACION MERCADO CONCENTRACION VOCEADORES     531311  Oficinas\n",
       "6                                 ABARROTES LA TIA     461110  Comercio\n",
       "7                             BIZUTERIA SIN NOMBRE     463215  Comercio"
      ]
     },
     "execution_count": 14,
     "metadata": {},
     "output_type": "execute_result"
    }
   ],
   "source": [
    "pth = descarga_denue('ejemplo')\n",
    "denue = Denue.desde_archivo(pth)\n",
    "categorias = {\n",
    "    'Manufacturas': ['^31.*5$', '^32.*5$', '^33.*5$'],\n",
    "    'Oficinas': ['^51', '^521', '^523', '^524', '^5312', '^5313', '^541', '^55'],\n",
    "    'Comercio': ['^46[123456]']\n",
    "}\n",
    "usos = denue.agrega_en_usos(categorias)\n",
    "usos.datos.loc[~usos.datos.Categoria.isnull()][['nom_estab', 'codigo_act', 'Categoria']].head()"
   ]
  },
  {
   "cell_type": "markdown",
   "metadata": {},
   "source": [
    "Entonces podemos usar la columna `Categoria` para agregar los puntos en nuestra malla. La sintaxis es casi igual, sólo que en este caso pasamos el nombre de la columna con la que clasificamos las observaciones: "
   ]
  },
  {
   "cell_type": "code",
   "execution_count": 15,
   "metadata": {
    "vscode": {
     "languageId": "python"
    }
   },
   "outputs": [
    {
     "data": {
      "text/html": [
       "<div>\n",
       "<style scoped>\n",
       "    .dataframe tbody tr th:only-of-type {\n",
       "        vertical-align: middle;\n",
       "    }\n",
       "\n",
       "    .dataframe tbody tr th {\n",
       "        vertical-align: top;\n",
       "    }\n",
       "\n",
       "    .dataframe thead th {\n",
       "        text-align: right;\n",
       "    }\n",
       "</style>\n",
       "<table border=\"1\" class=\"dataframe\">\n",
       "  <thead>\n",
       "    <tr style=\"text-align: right;\">\n",
       "      <th></th>\n",
       "      <th>grid_id</th>\n",
       "      <th>Comercio</th>\n",
       "      <th>Manufacturas</th>\n",
       "      <th>Oficinas</th>\n",
       "      <th>geometry</th>\n",
       "    </tr>\n",
       "  </thead>\n",
       "  <tbody>\n",
       "    <tr>\n",
       "      <th>0</th>\n",
       "      <td>0</td>\n",
       "      <td>0.0</td>\n",
       "      <td>0.0</td>\n",
       "      <td>0.0</td>\n",
       "      <td>POLYGON ((2745631.810 774927.105, 2746631.810 ...</td>\n",
       "    </tr>\n",
       "    <tr>\n",
       "      <th>1</th>\n",
       "      <td>1</td>\n",
       "      <td>0.0</td>\n",
       "      <td>0.0</td>\n",
       "      <td>0.0</td>\n",
       "      <td>POLYGON ((2745631.810 775927.105, 2746631.810 ...</td>\n",
       "    </tr>\n",
       "    <tr>\n",
       "      <th>2</th>\n",
       "      <td>2</td>\n",
       "      <td>0.0</td>\n",
       "      <td>0.0</td>\n",
       "      <td>0.0</td>\n",
       "      <td>POLYGON ((2745631.810 776927.105, 2746631.810 ...</td>\n",
       "    </tr>\n",
       "    <tr>\n",
       "      <th>3</th>\n",
       "      <td>3</td>\n",
       "      <td>0.0</td>\n",
       "      <td>0.0</td>\n",
       "      <td>0.0</td>\n",
       "      <td>POLYGON ((2745631.810 777927.105, 2746631.810 ...</td>\n",
       "    </tr>\n",
       "    <tr>\n",
       "      <th>4</th>\n",
       "      <td>4</td>\n",
       "      <td>0.0</td>\n",
       "      <td>0.0</td>\n",
       "      <td>0.0</td>\n",
       "      <td>POLYGON ((2745631.810 778927.105, 2746631.810 ...</td>\n",
       "    </tr>\n",
       "    <tr>\n",
       "      <th>...</th>\n",
       "      <td>...</td>\n",
       "      <td>...</td>\n",
       "      <td>...</td>\n",
       "      <td>...</td>\n",
       "      <td>...</td>\n",
       "    </tr>\n",
       "    <tr>\n",
       "      <th>13745</th>\n",
       "      <td>13745</td>\n",
       "      <td>0.0</td>\n",
       "      <td>0.0</td>\n",
       "      <td>0.0</td>\n",
       "      <td>POLYGON ((2854631.810 894927.105, 2855631.810 ...</td>\n",
       "    </tr>\n",
       "    <tr>\n",
       "      <th>13746</th>\n",
       "      <td>13746</td>\n",
       "      <td>0.0</td>\n",
       "      <td>0.0</td>\n",
       "      <td>0.0</td>\n",
       "      <td>POLYGON ((2854631.810 895927.105, 2855631.810 ...</td>\n",
       "    </tr>\n",
       "    <tr>\n",
       "      <th>13747</th>\n",
       "      <td>13747</td>\n",
       "      <td>0.0</td>\n",
       "      <td>0.0</td>\n",
       "      <td>0.0</td>\n",
       "      <td>POLYGON ((2854631.810 896927.105, 2855631.810 ...</td>\n",
       "    </tr>\n",
       "    <tr>\n",
       "      <th>13748</th>\n",
       "      <td>13748</td>\n",
       "      <td>0.0</td>\n",
       "      <td>0.0</td>\n",
       "      <td>0.0</td>\n",
       "      <td>POLYGON ((2854631.810 897927.105, 2855631.810 ...</td>\n",
       "    </tr>\n",
       "    <tr>\n",
       "      <th>13749</th>\n",
       "      <td>13749</td>\n",
       "      <td>0.0</td>\n",
       "      <td>0.0</td>\n",
       "      <td>0.0</td>\n",
       "      <td>POLYGON ((2854631.810 898927.105, 2855631.810 ...</td>\n",
       "    </tr>\n",
       "  </tbody>\n",
       "</table>\n",
       "<p>13750 rows × 5 columns</p>\n",
       "</div>"
      ],
      "text/plain": [
       "       grid_id  Comercio  Manufacturas  Oficinas  \\\n",
       "0            0       0.0           0.0       0.0   \n",
       "1            1       0.0           0.0       0.0   \n",
       "2            2       0.0           0.0       0.0   \n",
       "3            3       0.0           0.0       0.0   \n",
       "4            4       0.0           0.0       0.0   \n",
       "...        ...       ...           ...       ...   \n",
       "13745    13745       0.0           0.0       0.0   \n",
       "13746    13746       0.0           0.0       0.0   \n",
       "13747    13747       0.0           0.0       0.0   \n",
       "13748    13748       0.0           0.0       0.0   \n",
       "13749    13749       0.0           0.0       0.0   \n",
       "\n",
       "                                                geometry  \n",
       "0      POLYGON ((2745631.810 774927.105, 2746631.810 ...  \n",
       "1      POLYGON ((2745631.810 775927.105, 2746631.810 ...  \n",
       "2      POLYGON ((2745631.810 776927.105, 2746631.810 ...  \n",
       "3      POLYGON ((2745631.810 777927.105, 2746631.810 ...  \n",
       "4      POLYGON ((2745631.810 778927.105, 2746631.810 ...  \n",
       "...                                                  ...  \n",
       "13745  POLYGON ((2854631.810 894927.105, 2855631.810 ...  \n",
       "13746  POLYGON ((2854631.810 895927.105, 2855631.810 ...  \n",
       "13747  POLYGON ((2854631.810 896927.105, 2855631.810 ...  \n",
       "13748  POLYGON ((2854631.810 897927.105, 2855631.810 ...  \n",
       "13749  POLYGON ((2854631.810 898927.105, 2855631.810 ...  \n",
       "\n",
       "[13750 rows x 5 columns]"
      ]
     },
     "execution_count": 15,
     "metadata": {},
     "output_type": "execute_result"
    }
   ],
   "source": [
    "agregado = malla.agrega_puntos(usos.datos, clasificacion='Categoria')\n",
    "agregado.datos"
   ]
  },
  {
   "cell_type": "markdown",
   "metadata": {},
   "source": [
    "También podemos usar una columna con pesos para agregar los puntos. Por ejemplo, en el módulo `Denue` se pueden agregar pesos a las actividades económicas de acuerdo al número de empleados, podemos usar estos pesos para agregar esos datos en una malla."
   ]
  },
  {
   "cell_type": "code",
   "execution_count": 16,
   "metadata": {
    "vscode": {
     "languageId": "python"
    }
   },
   "outputs": [
    {
     "data": {
      "text/html": [
       "<div>\n",
       "<style scoped>\n",
       "    .dataframe tbody tr th:only-of-type {\n",
       "        vertical-align: middle;\n",
       "    }\n",
       "\n",
       "    .dataframe tbody tr th {\n",
       "        vertical-align: top;\n",
       "    }\n",
       "\n",
       "    .dataframe thead th {\n",
       "        text-align: right;\n",
       "    }\n",
       "</style>\n",
       "<table border=\"1\" class=\"dataframe\">\n",
       "  <thead>\n",
       "    <tr style=\"text-align: right;\">\n",
       "      <th></th>\n",
       "      <th>grid_id</th>\n",
       "      <th>Comercio</th>\n",
       "      <th>Manufacturas</th>\n",
       "      <th>Oficinas</th>\n",
       "      <th>geometry</th>\n",
       "    </tr>\n",
       "  </thead>\n",
       "  <tbody>\n",
       "    <tr>\n",
       "      <th>0</th>\n",
       "      <td>0</td>\n",
       "      <td>0.0</td>\n",
       "      <td>0.0</td>\n",
       "      <td>0.0</td>\n",
       "      <td>POLYGON ((2745631.810 774927.105, 2746631.810 ...</td>\n",
       "    </tr>\n",
       "    <tr>\n",
       "      <th>1</th>\n",
       "      <td>1</td>\n",
       "      <td>0.0</td>\n",
       "      <td>0.0</td>\n",
       "      <td>0.0</td>\n",
       "      <td>POLYGON ((2745631.810 775927.105, 2746631.810 ...</td>\n",
       "    </tr>\n",
       "    <tr>\n",
       "      <th>2</th>\n",
       "      <td>2</td>\n",
       "      <td>0.0</td>\n",
       "      <td>0.0</td>\n",
       "      <td>0.0</td>\n",
       "      <td>POLYGON ((2745631.810 776927.105, 2746631.810 ...</td>\n",
       "    </tr>\n",
       "    <tr>\n",
       "      <th>3</th>\n",
       "      <td>3</td>\n",
       "      <td>0.0</td>\n",
       "      <td>0.0</td>\n",
       "      <td>0.0</td>\n",
       "      <td>POLYGON ((2745631.810 777927.105, 2746631.810 ...</td>\n",
       "    </tr>\n",
       "    <tr>\n",
       "      <th>4</th>\n",
       "      <td>4</td>\n",
       "      <td>0.0</td>\n",
       "      <td>0.0</td>\n",
       "      <td>0.0</td>\n",
       "      <td>POLYGON ((2745631.810 778927.105, 2746631.810 ...</td>\n",
       "    </tr>\n",
       "    <tr>\n",
       "      <th>...</th>\n",
       "      <td>...</td>\n",
       "      <td>...</td>\n",
       "      <td>...</td>\n",
       "      <td>...</td>\n",
       "      <td>...</td>\n",
       "    </tr>\n",
       "    <tr>\n",
       "      <th>13745</th>\n",
       "      <td>13745</td>\n",
       "      <td>0.0</td>\n",
       "      <td>0.0</td>\n",
       "      <td>0.0</td>\n",
       "      <td>POLYGON ((2854631.810 894927.105, 2855631.810 ...</td>\n",
       "    </tr>\n",
       "    <tr>\n",
       "      <th>13746</th>\n",
       "      <td>13746</td>\n",
       "      <td>0.0</td>\n",
       "      <td>0.0</td>\n",
       "      <td>0.0</td>\n",
       "      <td>POLYGON ((2854631.810 895927.105, 2855631.810 ...</td>\n",
       "    </tr>\n",
       "    <tr>\n",
       "      <th>13747</th>\n",
       "      <td>13747</td>\n",
       "      <td>0.0</td>\n",
       "      <td>0.0</td>\n",
       "      <td>0.0</td>\n",
       "      <td>POLYGON ((2854631.810 896927.105, 2855631.810 ...</td>\n",
       "    </tr>\n",
       "    <tr>\n",
       "      <th>13748</th>\n",
       "      <td>13748</td>\n",
       "      <td>0.0</td>\n",
       "      <td>0.0</td>\n",
       "      <td>0.0</td>\n",
       "      <td>POLYGON ((2854631.810 897927.105, 2855631.810 ...</td>\n",
       "    </tr>\n",
       "    <tr>\n",
       "      <th>13749</th>\n",
       "      <td>13749</td>\n",
       "      <td>0.0</td>\n",
       "      <td>0.0</td>\n",
       "      <td>0.0</td>\n",
       "      <td>POLYGON ((2854631.810 898927.105, 2855631.810 ...</td>\n",
       "    </tr>\n",
       "  </tbody>\n",
       "</table>\n",
       "<p>13750 rows × 5 columns</p>\n",
       "</div>"
      ],
      "text/plain": [
       "       grid_id  Comercio  Manufacturas  Oficinas  \\\n",
       "0            0       0.0           0.0       0.0   \n",
       "1            1       0.0           0.0       0.0   \n",
       "2            2       0.0           0.0       0.0   \n",
       "3            3       0.0           0.0       0.0   \n",
       "4            4       0.0           0.0       0.0   \n",
       "...        ...       ...           ...       ...   \n",
       "13745    13745       0.0           0.0       0.0   \n",
       "13746    13746       0.0           0.0       0.0   \n",
       "13747    13747       0.0           0.0       0.0   \n",
       "13748    13748       0.0           0.0       0.0   \n",
       "13749    13749       0.0           0.0       0.0   \n",
       "\n",
       "                                                geometry  \n",
       "0      POLYGON ((2745631.810 774927.105, 2746631.810 ...  \n",
       "1      POLYGON ((2745631.810 775927.105, 2746631.810 ...  \n",
       "2      POLYGON ((2745631.810 776927.105, 2746631.810 ...  \n",
       "3      POLYGON ((2745631.810 777927.105, 2746631.810 ...  \n",
       "4      POLYGON ((2745631.810 778927.105, 2746631.810 ...  \n",
       "...                                                  ...  \n",
       "13745  POLYGON ((2854631.810 894927.105, 2855631.810 ...  \n",
       "13746  POLYGON ((2854631.810 895927.105, 2855631.810 ...  \n",
       "13747  POLYGON ((2854631.810 896927.105, 2855631.810 ...  \n",
       "13748  POLYGON ((2854631.810 897927.105, 2855631.810 ...  \n",
       "13749  POLYGON ((2854631.810 898927.105, 2855631.810 ...  \n",
       "\n",
       "[13750 rows x 5 columns]"
      ]
     },
     "execution_count": 16,
     "metadata": {},
     "output_type": "execute_result"
    }
   ],
   "source": [
    "pesos = {\n",
    "        '0 a 5 personas': 2,\n",
    "        '6 a 10 personas': 8,\n",
    "        '11 a 30 personas': 20,\n",
    "        '31 a 50 personas': 40,\n",
    "        '51 a 100 personas': 75,\n",
    "        '101 a 250 personas': 175,\n",
    "        '251 y más personas': 300\n",
    "        }\n",
    "usos_pesos = usos.pesa_unidades(pesos)\n",
    "agregado_pesos = malla.agrega_puntos(usos_pesos.datos, clasificacion='Categoria', pesos='pesos')\n",
    "agregado_pesos.datos"
   ]
  },
  {
   "cell_type": "markdown",
   "metadata": {},
   "source": [
    "Podemos comparar el resultado de usar o no los pesos: "
   ]
  },
  {
   "cell_type": "code",
   "execution_count": 17,
   "metadata": {
    "vscode": {
     "languageId": "python"
    }
   },
   "outputs": [
    {
     "data": {
      "image/png": "[encoded data removed]",
      "text/plain": [
       "<Figure size 1000x2000 with 2 Axes>"
      ]
     },
     "metadata": {},
     "output_type": "display_data"
    }
   ],
   "source": [
    "fig, (ax0, ax1) = plt.subplots(1,2, figsize=(10,20))\n",
    "ax0 = agregado_pesos.datos.plot('Oficinas', ax=ax0)\n",
    "ax0 = ax0.set_title(\"Con pesos\")\n",
    "ax1 = agregado.datos.plot('Oficinas', ax=ax1)\n",
    "ax1 = ax1.set_title(\"Sin pesos\")"
   ]
  },
  {
   "cell_type": "markdown",
   "metadata": {},
   "source": [
    "### Agrega líneas\n",
    "\n",
    "Ahora vamos a añadir la funcionalidad de agregar líneas en la malla. Lo que vamos a hacer es calcular la longitud de las líneas adentro de cada cuadrado de la retícula y utiliza ese valor en la malla. Sirve, por ejemplo, para calcular la longitud total de un tipo de vialidad en cada elemento de la malla."
   ]
  },
  {
   "cell_type": "code",
   "execution_count": 18,
   "metadata": {
    "vscode": {
     "languageId": "python"
    }
   },
   "outputs": [],
   "source": [
    "#| export\n",
    "\n",
    "@patch\n",
    "def agrega_lineas(self:Malla,\n",
    "                  lineas:gpd.GeoDataFrame, # La capa de líneas a agregar\n",
    "                  campo: str='longitud', # Nombre del campo en el que se guarda el resultado\n",
    "                 ) -> Malla:\n",
    "    \"\"\" Regresa una `Malla` con la longitud de las lineas agregadas en cada elemento.\"\"\"\n",
    "    if lineas.crs != self.crs:\n",
    "        lineas = lineas.to_crs(self.crs) \n",
    "    with warnings.catch_warnings():\n",
    "        warnings.simplefilter(\"ignore\")\n",
    "        union = (lineas\n",
    "                .overlay(self.datos, how='union')\n",
    "                .dissolve(by='grid_id')\n",
    "                .length.reset_index()\n",
    "                .rename({0:campo}, axis=1)   \n",
    "            )\n",
    "    union = (self.datos\n",
    "            .merge(union, on='grid_id', how='left')\n",
    "            .fillna(0)\n",
    "        )\n",
    "    m = Malla(union, self.size)\n",
    "    return m"
   ]
  },
  {
   "cell_type": "markdown",
   "metadata": {},
   "source": [
    "Para probar la función, descargamos la red de OSM y filtramos sólo las vialidades primarias "
   ]
  },
  {
   "cell_type": "code",
   "execution_count": 19,
   "metadata": {
    "vscode": {
     "languageId": "python"
    }
   },
   "outputs": [
    {
     "name": "stdout",
     "output_type": "stream",
     "text": [
      "El archivo ya está descargado\n"
     ]
    },
    {
     "data": {
      "text/plain": [
       "<AxesSubplot:>"
      ]
     },
     "execution_count": 19,
     "metadata": {},
     "output_type": "execute_result"
    },
    {
     "data": {
      "image/png": "[encoded data removed]",
      "text/plain": [
       "<Figure size 640x480 with 1 Axes>"
      ]
     },
     "metadata": {},
     "output_type": "display_data"
    }
   ],
   "source": [
    "pth = descarga_redes() # nos aseguramos de tener la red\n",
    "red = gpd.read_file(pth)\n",
    "red = red.loc[red.tag_id.isin([104,108,106,101])]\n",
    "red.plot()"
   ]
  },
  {
   "cell_type": "markdown",
   "metadata": {},
   "source": [
    "Con esta capa podemos probar la función"
   ]
  },
  {
   "cell_type": "code",
   "execution_count": 20,
   "metadata": {
    "vscode": {
     "languageId": "python"
    }
   },
   "outputs": [
    {
     "data": {
      "text/html": [
       "<div>\n",
       "<style scoped>\n",
       "    .dataframe tbody tr th:only-of-type {\n",
       "        vertical-align: middle;\n",
       "    }\n",
       "\n",
       "    .dataframe tbody tr th {\n",
       "        vertical-align: top;\n",
       "    }\n",
       "\n",
       "    .dataframe thead th {\n",
       "        text-align: right;\n",
       "    }\n",
       "</style>\n",
       "<table border=\"1\" class=\"dataframe\">\n",
       "  <thead>\n",
       "    <tr style=\"text-align: right;\">\n",
       "      <th></th>\n",
       "      <th>grid_id</th>\n",
       "      <th>geometry</th>\n",
       "      <th>metros_vialidad</th>\n",
       "    </tr>\n",
       "  </thead>\n",
       "  <tbody>\n",
       "    <tr>\n",
       "      <th>0</th>\n",
       "      <td>0</td>\n",
       "      <td>POLYGON ((2745631.810 774927.105, 2746631.810 ...</td>\n",
       "      <td>0.0</td>\n",
       "    </tr>\n",
       "    <tr>\n",
       "      <th>1</th>\n",
       "      <td>1</td>\n",
       "      <td>POLYGON ((2745631.810 775927.105, 2746631.810 ...</td>\n",
       "      <td>0.0</td>\n",
       "    </tr>\n",
       "    <tr>\n",
       "      <th>2</th>\n",
       "      <td>2</td>\n",
       "      <td>POLYGON ((2745631.810 776927.105, 2746631.810 ...</td>\n",
       "      <td>0.0</td>\n",
       "    </tr>\n",
       "    <tr>\n",
       "      <th>3</th>\n",
       "      <td>3</td>\n",
       "      <td>POLYGON ((2745631.810 777927.105, 2746631.810 ...</td>\n",
       "      <td>0.0</td>\n",
       "    </tr>\n",
       "    <tr>\n",
       "      <th>4</th>\n",
       "      <td>4</td>\n",
       "      <td>POLYGON ((2745631.810 778927.105, 2746631.810 ...</td>\n",
       "      <td>0.0</td>\n",
       "    </tr>\n",
       "    <tr>\n",
       "      <th>...</th>\n",
       "      <td>...</td>\n",
       "      <td>...</td>\n",
       "      <td>...</td>\n",
       "    </tr>\n",
       "    <tr>\n",
       "      <th>13745</th>\n",
       "      <td>13745</td>\n",
       "      <td>POLYGON ((2854631.810 894927.105, 2855631.810 ...</td>\n",
       "      <td>0.0</td>\n",
       "    </tr>\n",
       "    <tr>\n",
       "      <th>13746</th>\n",
       "      <td>13746</td>\n",
       "      <td>POLYGON ((2854631.810 895927.105, 2855631.810 ...</td>\n",
       "      <td>0.0</td>\n",
       "    </tr>\n",
       "    <tr>\n",
       "      <th>13747</th>\n",
       "      <td>13747</td>\n",
       "      <td>POLYGON ((2854631.810 896927.105, 2855631.810 ...</td>\n",
       "      <td>0.0</td>\n",
       "    </tr>\n",
       "    <tr>\n",
       "      <th>13748</th>\n",
       "      <td>13748</td>\n",
       "      <td>POLYGON ((2854631.810 897927.105, 2855631.810 ...</td>\n",
       "      <td>0.0</td>\n",
       "    </tr>\n",
       "    <tr>\n",
       "      <th>13749</th>\n",
       "      <td>13749</td>\n",
       "      <td>POLYGON ((2854631.810 898927.105, 2855631.810 ...</td>\n",
       "      <td>0.0</td>\n",
       "    </tr>\n",
       "  </tbody>\n",
       "</table>\n",
       "<p>13750 rows × 3 columns</p>\n",
       "</div>"
      ],
      "text/plain": [
       "       grid_id                                           geometry  \\\n",
       "0            0  POLYGON ((2745631.810 774927.105, 2746631.810 ...   \n",
       "1            1  POLYGON ((2745631.810 775927.105, 2746631.810 ...   \n",
       "2            2  POLYGON ((2745631.810 776927.105, 2746631.810 ...   \n",
       "3            3  POLYGON ((2745631.810 777927.105, 2746631.810 ...   \n",
       "4            4  POLYGON ((2745631.810 778927.105, 2746631.810 ...   \n",
       "...        ...                                                ...   \n",
       "13745    13745  POLYGON ((2854631.810 894927.105, 2855631.810 ...   \n",
       "13746    13746  POLYGON ((2854631.810 895927.105, 2855631.810 ...   \n",
       "13747    13747  POLYGON ((2854631.810 896927.105, 2855631.810 ...   \n",
       "13748    13748  POLYGON ((2854631.810 897927.105, 2855631.810 ...   \n",
       "13749    13749  POLYGON ((2854631.810 898927.105, 2855631.810 ...   \n",
       "\n",
       "       metros_vialidad  \n",
       "0                  0.0  \n",
       "1                  0.0  \n",
       "2                  0.0  \n",
       "3                  0.0  \n",
       "4                  0.0  \n",
       "...                ...  \n",
       "13745              0.0  \n",
       "13746              0.0  \n",
       "13747              0.0  \n",
       "13748              0.0  \n",
       "13749              0.0  \n",
       "\n",
       "[13750 rows x 3 columns]"
      ]
     },
     "execution_count": 20,
     "metadata": {},
     "output_type": "execute_result"
    }
   ],
   "source": [
    "red_malla = malla.agrega_lineas(red, campo='metros_vialidad')\n",
    "red_malla.datos"
   ]
  },
  {
   "cell_type": "markdown",
   "metadata": {},
   "source": [
    "La `Malla` que nos regresa sólo tiene el id de la malla y la longitud de la red dentro de cada elemento de la retícula. Lo podemos ver rápidamente en un mapa"
   ]
  },
  {
   "cell_type": "code",
   "execution_count": 21,
   "metadata": {
    "vscode": {
     "languageId": "python"
    }
   },
   "outputs": [
    {
     "data": {
      "text/plain": [
       "<AxesSubplot:>"
      ]
     },
     "execution_count": 21,
     "metadata": {},
     "output_type": "execute_result"
    },
    {
     "data": {
      "image/png": "[encoded data removed]",
      "text/plain": [
       "<Figure size 640x480 with 1 Axes>"
      ]
     },
     "metadata": {},
     "output_type": "display_data"
    }
   ],
   "source": [
    "red_malla.datos.plot('metros_vialidad')"
   ]
  },
  {
   "cell_type": "markdown",
   "metadata": {},
   "source": [
    "Como cada operación regresa una copia del objeto, podemos _encadenar_ los métodos para ir agregando varias capas en una malla:"
   ]
  },
  {
   "cell_type": "code",
   "execution_count": 22,
   "metadata": {
    "vscode": {
     "languageId": "python"
    }
   },
   "outputs": [
    {
     "data": {
      "text/html": [
       "<div>\n",
       "<style scoped>\n",
       "    .dataframe tbody tr th:only-of-type {\n",
       "        vertical-align: middle;\n",
       "    }\n",
       "\n",
       "    .dataframe tbody tr th {\n",
       "        vertical-align: top;\n",
       "    }\n",
       "\n",
       "    .dataframe thead th {\n",
       "        text-align: right;\n",
       "    }\n",
       "</style>\n",
       "<table border=\"1\" class=\"dataframe\">\n",
       "  <thead>\n",
       "    <tr style=\"text-align: right;\">\n",
       "      <th></th>\n",
       "      <th>grid_id</th>\n",
       "      <th>puntos</th>\n",
       "      <th>geometry</th>\n",
       "      <th>metros_vialidad</th>\n",
       "    </tr>\n",
       "  </thead>\n",
       "  <tbody>\n",
       "    <tr>\n",
       "      <th>0</th>\n",
       "      <td>0</td>\n",
       "      <td>0.0</td>\n",
       "      <td>POLYGON ((2745631.810 774927.105, 2746631.810 ...</td>\n",
       "      <td>0.0</td>\n",
       "    </tr>\n",
       "    <tr>\n",
       "      <th>1</th>\n",
       "      <td>1</td>\n",
       "      <td>0.0</td>\n",
       "      <td>POLYGON ((2745631.810 775927.105, 2746631.810 ...</td>\n",
       "      <td>0.0</td>\n",
       "    </tr>\n",
       "    <tr>\n",
       "      <th>2</th>\n",
       "      <td>2</td>\n",
       "      <td>0.0</td>\n",
       "      <td>POLYGON ((2745631.810 776927.105, 2746631.810 ...</td>\n",
       "      <td>0.0</td>\n",
       "    </tr>\n",
       "    <tr>\n",
       "      <th>3</th>\n",
       "      <td>3</td>\n",
       "      <td>0.0</td>\n",
       "      <td>POLYGON ((2745631.810 777927.105, 2746631.810 ...</td>\n",
       "      <td>0.0</td>\n",
       "    </tr>\n",
       "    <tr>\n",
       "      <th>4</th>\n",
       "      <td>4</td>\n",
       "      <td>0.0</td>\n",
       "      <td>POLYGON ((2745631.810 778927.105, 2746631.810 ...</td>\n",
       "      <td>0.0</td>\n",
       "    </tr>\n",
       "    <tr>\n",
       "      <th>...</th>\n",
       "      <td>...</td>\n",
       "      <td>...</td>\n",
       "      <td>...</td>\n",
       "      <td>...</td>\n",
       "    </tr>\n",
       "    <tr>\n",
       "      <th>13745</th>\n",
       "      <td>13745</td>\n",
       "      <td>0.0</td>\n",
       "      <td>POLYGON ((2854631.810 894927.105, 2855631.810 ...</td>\n",
       "      <td>0.0</td>\n",
       "    </tr>\n",
       "    <tr>\n",
       "      <th>13746</th>\n",
       "      <td>13746</td>\n",
       "      <td>0.0</td>\n",
       "      <td>POLYGON ((2854631.810 895927.105, 2855631.810 ...</td>\n",
       "      <td>0.0</td>\n",
       "    </tr>\n",
       "    <tr>\n",
       "      <th>13747</th>\n",
       "      <td>13747</td>\n",
       "      <td>0.0</td>\n",
       "      <td>POLYGON ((2854631.810 896927.105, 2855631.810 ...</td>\n",
       "      <td>0.0</td>\n",
       "    </tr>\n",
       "    <tr>\n",
       "      <th>13748</th>\n",
       "      <td>13748</td>\n",
       "      <td>0.0</td>\n",
       "      <td>POLYGON ((2854631.810 897927.105, 2855631.810 ...</td>\n",
       "      <td>0.0</td>\n",
       "    </tr>\n",
       "    <tr>\n",
       "      <th>13749</th>\n",
       "      <td>13749</td>\n",
       "      <td>0.0</td>\n",
       "      <td>POLYGON ((2854631.810 898927.105, 2855631.810 ...</td>\n",
       "      <td>0.0</td>\n",
       "    </tr>\n",
       "  </tbody>\n",
       "</table>\n",
       "<p>13750 rows × 4 columns</p>\n",
       "</div>"
      ],
      "text/plain": [
       "       grid_id  puntos                                           geometry  \\\n",
       "0            0     0.0  POLYGON ((2745631.810 774927.105, 2746631.810 ...   \n",
       "1            1     0.0  POLYGON ((2745631.810 775927.105, 2746631.810 ...   \n",
       "2            2     0.0  POLYGON ((2745631.810 776927.105, 2746631.810 ...   \n",
       "3            3     0.0  POLYGON ((2745631.810 777927.105, 2746631.810 ...   \n",
       "4            4     0.0  POLYGON ((2745631.810 778927.105, 2746631.810 ...   \n",
       "...        ...     ...                                                ...   \n",
       "13745    13745     0.0  POLYGON ((2854631.810 894927.105, 2855631.810 ...   \n",
       "13746    13746     0.0  POLYGON ((2854631.810 895927.105, 2855631.810 ...   \n",
       "13747    13747     0.0  POLYGON ((2854631.810 896927.105, 2855631.810 ...   \n",
       "13748    13748     0.0  POLYGON ((2854631.810 897927.105, 2855631.810 ...   \n",
       "13749    13749     0.0  POLYGON ((2854631.810 898927.105, 2855631.810 ...   \n",
       "\n",
       "       metros_vialidad  \n",
       "0                  0.0  \n",
       "1                  0.0  \n",
       "2                  0.0  \n",
       "3                  0.0  \n",
       "4                  0.0  \n",
       "...                ...  \n",
       "13745              0.0  \n",
       "13746              0.0  \n",
       "13747              0.0  \n",
       "13748              0.0  \n",
       "13749              0.0  \n",
       "\n",
       "[13750 rows x 4 columns]"
      ]
     },
     "execution_count": 22,
     "metadata": {},
     "output_type": "execute_result"
    }
   ],
   "source": [
    "malla_todo = (malla\n",
    "             .agrega_puntos(puntos, campo=\"puntos\")\n",
    "             .agrega_lineas(red, campo='metros_vialidad')\n",
    "             )\n",
    "malla_todo.datos"
   ]
  },
  {
   "cell_type": "markdown",
   "metadata": {},
   "source": [
    "### Agrega variables del Censo{#sec-censo-mallas} \n",
    "\n",
    "Algunas variables importantes para analizar el uso de suelo vienen contenidas en los Censos de Ppoblación y Vivienda del INEGI. Como esta librería busca permitir al usuario la mayor libertad posible en cuanto a las unidades de análisis que escoja, optamos por desarrollar un método que permite partir de las variables censales a escala de manzana urbana y agregarlas en nuestras coberturas.\n",
    "\n",
    "Agregar las manzanas en coberturas arbitrarioas (regulares o no) implica tener una relación entre los elementos de la cobertura y las manzanas, obviamente esto no se puede hacer de forma exacta porque las fronteras de las manzanas y los elementos de la malla no van a coincidir como se puede ver en la siguiente figura:\n",
    "\n",
    "![Sobreposición de manzanas y una malla de 1000 metros](malla_poligonos_1.png)\n",
    "\n",
    "\n"
   ]
  },
  {
   "cell_type": "markdown",
   "metadata": {},
   "source": [
    "Para resolver este problema, la librería va a asignar automáticamente el id del elemento de la malla a todas las manzanas que estén completamente contenidas en un elemento. El problema va a estar cuando una manzana intersecta a más de un elemento de la malla, para estos casos tenemos dos soluciones alternativas:\n",
    "\n",
    "* Centro de celda: se asigna el identificador del elemento de la malla en el que caiga el centro de la manzana\n",
    "* Área máxima: se asigna el identificador del elemento de la malla que contenga una mayor área de la manzana. \n",
    "\n",
    ":::{.callout-warning}\n",
    "\n",
    "Estos métodos funcionan solo cuando el tamaño de la malla es, en general, más grande que las manzanas. Cuando la malla es más pequeña que las manzanas no arroja error pero los resultados no son confiables.\n",
    "\n",
    ":::\n",
    "\n",
    "A partir de esta relación, entonces podemos seleccionar qué variables del Censo queremos agregar en nuestra retícula.\n",
    "\n",
    ":::{.callout-note}\n",
    "\n",
    "Por lo pronto la librería provee unicamente datos del censo a nivel manzana para la Zona Metropolitana del Valle de México, en el futuro cercano incluiremos las principales ciudades del país.\n",
    "\n",
    ":::"
   ]
  },
  {
   "cell_type": "code",
   "execution_count": 23,
   "metadata": {
    "vscode": {
     "languageId": "python"
    }
   },
   "outputs": [],
   "source": [
    "#| export\n",
    "@patch\n",
    "def agrega_manzanas(self:Malla,\n",
    "                    manzanas:gpd.GeoDataFrame, # Las manzanas (`descarga_manzanas_ejempolo`).\n",
    "                    variables:dict, # Diccionario de las variables que querems agregar y el método para agregarlas (p, ej. {'OCUPVIVPAR':'sum'})\n",
    "                    metodo: str='centro' # centro/area, método para resolver sobreposiciones\n",
    "    ) -> Malla:\n",
    "    pd.options.mode.chained_assignment = None\n",
    "    if manzanas.crs != self.crs:\n",
    "        manzanas = manzanas.to_crs(self.crs)\n",
    "    # Primero asignamos el id de la malla a todos los contenidos\n",
    "    manzanas = (manzanas\n",
    "                 .sjoin(self.datos, predicate='covered_by', how='left')\n",
    "                 .drop(columns='index_right'))\n",
    "    # resolvemos los demás de acuerdo al método selecionado\n",
    "    if metodo == 'centro':\n",
    "        sin_asignar = manzanas.loc[manzanas['grid_id'].isna(),:]\n",
    "        sin_asignar['geometry'] = sin_asignar['geometry'].centroid\n",
    "        # sin_asignar.loc[:, 'geometry'] = sin_asignar['geometry'].centroid\n",
    "        sin_asignar = (sin_asignar\n",
    "                      .drop(columns='grid_id')\n",
    "                      .sjoin(self.datos)\n",
    "                      .drop(columns='index_right'))\n",
    "\n",
    "    # Completamos los grid_id en los poligonos    \n",
    "    manzanas = manzanas.merge(sin_asignar[['CVEGEO', 'grid_id']], on='CVEGEO', how='left')\n",
    "    manzanas['grid_id'] = (manzanas['grid_id_y']\n",
    "                            .fillna(manzanas['grid_id_x']))\n",
    "    manzanas = manzanas.drop(columns=['grid_id_x', 'grid_id_y'])\n",
    "    manzanas['grid_id'] = manzanas['grid_id'].astype(int)\n",
    "    # Agrupamos y agregamos\n",
    "    malla = (manzanas\n",
    "             .drop(columns=['CVEGEO', 'geometry'])\n",
    "             .groupby('grid_id')\n",
    "             .aggregate(variables)\n",
    "             .reset_index())\n",
    "    malla = self.datos.merge(malla, on='grid_id', how='left').fillna(0)\n",
    "    malla = Malla(malla, self.size)\n",
    "    # return poligonos\n",
    "    return malla\n"
   ]
  },
  {
   "cell_type": "markdown",
   "metadata": {},
   "source": [
    "Vamos a ilustrar el funcionamiento de este método utilizando unos datos del censo a nivel manzana para la CDMX"
   ]
  },
  {
   "cell_type": "code",
   "execution_count": 24,
   "metadata": {
    "vscode": {
     "languageId": "python"
    }
   },
   "outputs": [
    {
     "name": "stdout",
     "output_type": "stream",
     "text": [
      "El archivo ya está descargado\n"
     ]
    },
    {
     "data": {
      "text/html": [
       "<div>\n",
       "<style scoped>\n",
       "    .dataframe tbody tr th:only-of-type {\n",
       "        vertical-align: middle;\n",
       "    }\n",
       "\n",
       "    .dataframe tbody tr th {\n",
       "        vertical-align: top;\n",
       "    }\n",
       "\n",
       "    .dataframe thead th {\n",
       "        text-align: right;\n",
       "    }\n",
       "</style>\n",
       "<table border=\"1\" class=\"dataframe\">\n",
       "  <thead>\n",
       "    <tr style=\"text-align: right;\">\n",
       "      <th></th>\n",
       "      <th>CVEGEO</th>\n",
       "      <th>VIVPAR_HAB</th>\n",
       "      <th>OCUPVIVPAR</th>\n",
       "      <th>geometry</th>\n",
       "    </tr>\n",
       "  </thead>\n",
       "  <tbody>\n",
       "    <tr>\n",
       "      <th>0</th>\n",
       "      <td>0901000010898031</td>\n",
       "      <td>22.0</td>\n",
       "      <td>93.0</td>\n",
       "      <td>POLYGON ((2790204.135 820779.247, 2790125.593 ...</td>\n",
       "    </tr>\n",
       "    <tr>\n",
       "      <th>1</th>\n",
       "      <td>0901000012269024</td>\n",
       "      <td>0.0</td>\n",
       "      <td>0.0</td>\n",
       "      <td>POLYGON ((2791387.916 821465.156, 2791376.215 ...</td>\n",
       "    </tr>\n",
       "    <tr>\n",
       "      <th>2</th>\n",
       "      <td>0901000011472068</td>\n",
       "      <td>33.0</td>\n",
       "      <td>124.0</td>\n",
       "      <td>POLYGON ((2788494.355 822775.106, 2788478.422 ...</td>\n",
       "    </tr>\n",
       "    <tr>\n",
       "      <th>3</th>\n",
       "      <td>0901000011824024</td>\n",
       "      <td>95.0</td>\n",
       "      <td>340.0</td>\n",
       "      <td>POLYGON ((2790870.494 819456.298, 2790862.256 ...</td>\n",
       "    </tr>\n",
       "    <tr>\n",
       "      <th>4</th>\n",
       "      <td>0901000012377004</td>\n",
       "      <td>23.0</td>\n",
       "      <td>82.0</td>\n",
       "      <td>POLYGON ((2792111.138 821977.886, 2792115.437 ...</td>\n",
       "    </tr>\n",
       "  </tbody>\n",
       "</table>\n",
       "</div>"
      ],
      "text/plain": [
       "             CVEGEO  VIVPAR_HAB  OCUPVIVPAR  \\\n",
       "0  0901000010898031        22.0        93.0   \n",
       "1  0901000012269024         0.0         0.0   \n",
       "2  0901000011472068        33.0       124.0   \n",
       "3  0901000011824024        95.0       340.0   \n",
       "4  0901000012377004        23.0        82.0   \n",
       "\n",
       "                                            geometry  \n",
       "0  POLYGON ((2790204.135 820779.247, 2790125.593 ...  \n",
       "1  POLYGON ((2791387.916 821465.156, 2791376.215 ...  \n",
       "2  POLYGON ((2788494.355 822775.106, 2788478.422 ...  \n",
       "3  POLYGON ((2790870.494 819456.298, 2790862.256 ...  \n",
       "4  POLYGON ((2792111.138 821977.886, 2792115.437 ...  "
      ]
     },
     "execution_count": 24,
     "metadata": {},
     "output_type": "execute_result"
    }
   ],
   "source": [
    "pth = descarga_manzanas_ejemplo()\n",
    "manzanas = gpd.read_file(pth)\n",
    "manzanas.head()"
   ]
  },
  {
   "cell_type": "markdown",
   "metadata": {},
   "source": [
    "Podemos agregar la variable `VIVPAR_HAB` usando la suma y `OCUPVIVPAR` con el promedio. "
   ]
  },
  {
   "cell_type": "code",
   "execution_count": 25,
   "metadata": {
    "vscode": {
     "languageId": "python"
    }
   },
   "outputs": [
    {
     "data": {
      "image/png": "[encoded data removed]",
      "text/plain": [
       "<Figure size 1000x2000 with 2 Axes>"
      ]
     },
     "metadata": {},
     "output_type": "display_data"
    }
   ],
   "source": [
    "malla_censo = malla.agrega_manzanas(manzanas, \n",
    "                                    {'VIVPAR_HAB': 'sum', \n",
    "                                    'OCUPVIVPAR': 'mean'}, \n",
    "                                    'centro')\n",
    "fig, (ax1, ax2) = plt.subplots(1,2, figsize=(10,20))\n",
    "ax1 = malla_censo.datos.plot('VIVPAR_HAB', ax=ax1)\n",
    "ax1 = ax1.set_title(\"SUM VIVPAR_HAB\")\n",
    "ax2 = malla_censo.datos.plot('OCUPVIVPAR', ax=ax2)\n",
    "ax2 = ax2.set_title(\"MEAN OCUPVIVPAR\")"
   ]
  },
  {
   "cell_type": "markdown",
   "metadata": {},
   "source": [
    "### Malla a raster\n",
    "\n",
    "Hasta ahora tenemos una representación vectorial de la malla, lo que sirve muy bien para operaciones espaciales con otras capas, pero una representación más natural y que nos permite operar de formas diferentes es la representación _raster_. En lugar de transformarlas en matrices directamente, vamos a usar `xarray` para representar nuestra malla como un `Dataset` de rasters."
   ]
  },
  {
   "cell_type": "code",
   "execution_count": 26,
   "metadata": {
    "vscode": {
     "languageId": "python"
    }
   },
   "outputs": [],
   "source": [
    "#| export\n",
    "@patch\n",
    "def to_xarray(self:Malla,\n",
    "              campos: list=None # Lista de campos a convertir, se convierten en bandas del raster\n",
    "             ):\n",
    "    \"\"\" Regresa un xarray con los `campos` seleccionados como variables.\"\"\"\n",
    "    if campos is None:\n",
    "        campos = [c for c in self.datos.columns if c not in ['geometry', 'grid_id']]     \n",
    "    cube = make_geocube(vector_data=self.datos, \n",
    "                        measurements=campos, \n",
    "                        resolution=(self.size, -self.size), \n",
    "                       )\n",
    "    return cube"
   ]
  },
  {
   "cell_type": "markdown",
   "metadata": {},
   "source": [
    "La función sólo toma como entrada los campos que queremos transformar a raster y regresa un `xarray` con las variables que seleccionamos como `Data variables`, las coordenadas `x` y `y` como `Coordinates` y en la proyección de la malla que le pasemos. "
   ]
  },
  {
   "cell_type": "code",
   "execution_count": 27,
   "metadata": {
    "vscode": {
     "languageId": "python"
    }
   },
   "outputs": [
    {
     "data": {
      "text/html": [
       "<div><svg style=\"position: absolute; width: 0; height: 0; overflow: hidden\">\n",
       "<defs>\n",
       "<symbol id=\"icon-database\" viewBox=\"0 0 32 32\">\n",
       "<path d=\"M16 0c-8.837 0-16 2.239-16 5v4c0 2.761 7.163 5 16 5s16-2.239 16-5v-4c0-2.761-7.163-5-16-5z\"></path>\n",
       "<path d=\"M16 17c-8.837 0-16-2.239-16-5v6c0 2.761 7.163 5 16 5s16-2.239 16-5v-6c0 2.761-7.163 5-16 5z\"></path>\n",
       "<path d=\"M16 26c-8.837 0-16-2.239-16-5v6c0 2.761 7.163 5 16 5s16-2.239 16-5v-6c0 2.761-7.163 5-16 5z\"></path>\n",
       "</symbol>\n",
       "<symbol id=\"icon-file-text2\" viewBox=\"0 0 32 32\">\n",
       "<path d=\"M28.681 7.159c-0.694-0.947-1.662-2.053-2.724-3.116s-2.169-2.030-3.116-2.724c-1.612-1.182-2.393-1.319-2.841-1.319h-15.5c-1.378 0-2.5 1.121-2.5 2.5v27c0 1.378 1.122 2.5 2.5 2.5h23c1.378 0 2.5-1.122 2.5-2.5v-19.5c0-0.448-0.137-1.23-1.319-2.841zM24.543 5.457c0.959 0.959 1.712 1.825 2.268 2.543h-4.811v-4.811c0.718 0.556 1.584 1.309 2.543 2.268zM28 29.5c0 0.271-0.229 0.5-0.5 0.5h-23c-0.271 0-0.5-0.229-0.5-0.5v-27c0-0.271 0.229-0.5 0.5-0.5 0 0 15.499-0 15.5 0v7c0 0.552 0.448 1 1 1h7v19.5z\"></path>\n",
       "<path d=\"M23 26h-14c-0.552 0-1-0.448-1-1s0.448-1 1-1h14c0.552 0 1 0.448 1 1s-0.448 1-1 1z\"></path>\n",
       "<path d=\"M23 22h-14c-0.552 0-1-0.448-1-1s0.448-1 1-1h14c0.552 0 1 0.448 1 1s-0.448 1-1 1z\"></path>\n",
       "<path d=\"M23 18h-14c-0.552 0-1-0.448-1-1s0.448-1 1-1h14c0.552 0 1 0.448 1 1s-0.448 1-1 1z\"></path>\n",
       "</symbol>\n",
       "</defs>\n",
       "</svg>\n",
       "<style>/* CSS stylesheet for displaying xarray objects in jupyterlab.\n",
       " *\n",
       " */\n",
       "\n",
       ":root {\n",
       "  --xr-font-color0: var(--jp-content-font-color0, rgba(0, 0, 0, 1));\n",
       "  --xr-font-color2: var(--jp-content-font-color2, rgba(0, 0, 0, 0.54));\n",
       "  --xr-font-color3: var(--jp-content-font-color3, rgba(0, 0, 0, 0.38));\n",
       "  --xr-border-color: var(--jp-border-color2, #e0e0e0);\n",
       "  --xr-disabled-color: var(--jp-layout-color3, #bdbdbd);\n",
       "  --xr-background-color: var(--jp-layout-color0, white);\n",
       "  --xr-background-color-row-even: var(--jp-layout-color1, white);\n",
       "  --xr-background-color-row-odd: var(--jp-layout-color2, #eeeeee);\n",
       "}\n",
       "\n",
       "html[theme=dark],\n",
       "body[data-theme=dark],\n",
       "body.vscode-dark {\n",
       "  --xr-font-color0: rgba(255, 255, 255, 1);\n",
       "  --xr-font-color2: rgba(255, 255, 255, 0.54);\n",
       "  --xr-font-color3: rgba(255, 255, 255, 0.38);\n",
       "  --xr-border-color: #1F1F1F;\n",
       "  --xr-disabled-color: #515151;\n",
       "  --xr-background-color: #111111;\n",
       "  --xr-background-color-row-even: #111111;\n",
       "  --xr-background-color-row-odd: #313131;\n",
       "}\n",
       "\n",
       ".xr-wrap {\n",
       "  display: block !important;\n",
       "  min-width: 300px;\n",
       "  max-width: 700px;\n",
       "}\n",
       "\n",
       ".xr-text-repr-fallback {\n",
       "  /* fallback to plain text repr when CSS is not injected (untrusted notebook) */\n",
       "  display: none;\n",
       "}\n",
       "\n",
       ".xr-header {\n",
       "  padding-top: 6px;\n",
       "  padding-bottom: 6px;\n",
       "  margin-bottom: 4px;\n",
       "  border-bottom: solid 1px var(--xr-border-color);\n",
       "}\n",
       "\n",
       ".xr-header > div,\n",
       ".xr-header > ul {\n",
       "  display: inline;\n",
       "  margin-top: 0;\n",
       "  margin-bottom: 0;\n",
       "}\n",
       "\n",
       ".xr-obj-type,\n",
       ".xr-array-name {\n",
       "  margin-left: 2px;\n",
       "  margin-right: 10px;\n",
       "}\n",
       "\n",
       ".xr-obj-type {\n",
       "  color: var(--xr-font-color2);\n",
       "}\n",
       "\n",
       ".xr-sections {\n",
       "  padding-left: 0 !important;\n",
       "  display: grid;\n",
       "  grid-template-columns: 150px auto auto 1fr 20px 20px;\n",
       "}\n",
       "\n",
       ".xr-section-item {\n",
       "  display: contents;\n",
       "}\n",
       "\n",
       ".xr-section-item input {\n",
       "  display: none;\n",
       "}\n",
       "\n",
       ".xr-section-item input + label {\n",
       "  color: var(--xr-disabled-color);\n",
       "}\n",
       "\n",
       ".xr-section-item input:enabled + label {\n",
       "  cursor: pointer;\n",
       "  color: var(--xr-font-color2);\n",
       "}\n",
       "\n",
       ".xr-section-item input:enabled + label:hover {\n",
       "  color: var(--xr-font-color0);\n",
       "}\n",
       "\n",
       ".xr-section-summary {\n",
       "  grid-column: 1;\n",
       "  color: var(--xr-font-color2);\n",
       "  font-weight: 500;\n",
       "}\n",
       "\n",
       ".xr-section-summary > span {\n",
       "  display: inline-block;\n",
       "  padding-left: 0.5em;\n",
       "}\n",
       "\n",
       ".xr-section-summary-in:disabled + label {\n",
       "  color: var(--xr-font-color2);\n",
       "}\n",
       "\n",
       ".xr-section-summary-in + label:before {\n",
       "  display: inline-block;\n",
       "  content: '►';\n",
       "  font-size: 11px;\n",
       "  width: 15px;\n",
       "  text-align: center;\n",
       "}\n",
       "\n",
       ".xr-section-summary-in:disabled + label:before {\n",
       "  color: var(--xr-disabled-color);\n",
       "}\n",
       "\n",
       ".xr-section-summary-in:checked + label:before {\n",
       "  content: '▼';\n",
       "}\n",
       "\n",
       ".xr-section-summary-in:checked + label > span {\n",
       "  display: none;\n",
       "}\n",
       "\n",
       ".xr-section-summary,\n",
       ".xr-section-inline-details {\n",
       "  padding-top: 4px;\n",
       "  padding-bottom: 4px;\n",
       "}\n",
       "\n",
       ".xr-section-inline-details {\n",
       "  grid-column: 2 / -1;\n",
       "}\n",
       "\n",
       ".xr-section-details {\n",
       "  display: none;\n",
       "  grid-column: 1 / -1;\n",
       "  margin-bottom: 5px;\n",
       "}\n",
       "\n",
       ".xr-section-summary-in:checked ~ .xr-section-details {\n",
       "  display: contents;\n",
       "}\n",
       "\n",
       ".xr-array-wrap {\n",
       "  grid-column: 1 / -1;\n",
       "  display: grid;\n",
       "  grid-template-columns: 20px auto;\n",
       "}\n",
       "\n",
       ".xr-array-wrap > label {\n",
       "  grid-column: 1;\n",
       "  vertical-align: top;\n",
       "}\n",
       "\n",
       ".xr-preview {\n",
       "  color: var(--xr-font-color3);\n",
       "}\n",
       "\n",
       ".xr-array-preview,\n",
       ".xr-array-data {\n",
       "  padding: 0 5px !important;\n",
       "  grid-column: 2;\n",
       "}\n",
       "\n",
       ".xr-array-data,\n",
       ".xr-array-in:checked ~ .xr-array-preview {\n",
       "  display: none;\n",
       "}\n",
       "\n",
       ".xr-array-in:checked ~ .xr-array-data,\n",
       ".xr-array-preview {\n",
       "  display: inline-block;\n",
       "}\n",
       "\n",
       ".xr-dim-list {\n",
       "  display: inline-block !important;\n",
       "  list-style: none;\n",
       "  padding: 0 !important;\n",
       "  margin: 0;\n",
       "}\n",
       "\n",
       ".xr-dim-list li {\n",
       "  display: inline-block;\n",
       "  padding: 0;\n",
       "  margin: 0;\n",
       "}\n",
       "\n",
       ".xr-dim-list:before {\n",
       "  content: '(';\n",
       "}\n",
       "\n",
       ".xr-dim-list:after {\n",
       "  content: ')';\n",
       "}\n",
       "\n",
       ".xr-dim-list li:not(:last-child):after {\n",
       "  content: ',';\n",
       "  padding-right: 5px;\n",
       "}\n",
       "\n",
       ".xr-has-index {\n",
       "  font-weight: bold;\n",
       "}\n",
       "\n",
       ".xr-var-list,\n",
       ".xr-var-item {\n",
       "  display: contents;\n",
       "}\n",
       "\n",
       ".xr-var-item > div,\n",
       ".xr-var-item label,\n",
       ".xr-var-item > .xr-var-name span {\n",
       "  background-color: var(--xr-background-color-row-even);\n",
       "  margin-bottom: 0;\n",
       "}\n",
       "\n",
       ".xr-var-item > .xr-var-name:hover span {\n",
       "  padding-right: 5px;\n",
       "}\n",
       "\n",
       ".xr-var-list > li:nth-child(odd) > div,\n",
       ".xr-var-list > li:nth-child(odd) > label,\n",
       ".xr-var-list > li:nth-child(odd) > .xr-var-name span {\n",
       "  background-color: var(--xr-background-color-row-odd);\n",
       "}\n",
       "\n",
       ".xr-var-name {\n",
       "  grid-column: 1;\n",
       "}\n",
       "\n",
       ".xr-var-dims {\n",
       "  grid-column: 2;\n",
       "}\n",
       "\n",
       ".xr-var-dtype {\n",
       "  grid-column: 3;\n",
       "  text-align: right;\n",
       "  color: var(--xr-font-color2);\n",
       "}\n",
       "\n",
       ".xr-var-preview {\n",
       "  grid-column: 4;\n",
       "}\n",
       "\n",
       ".xr-var-name,\n",
       ".xr-var-dims,\n",
       ".xr-var-dtype,\n",
       ".xr-preview,\n",
       ".xr-attrs dt {\n",
       "  white-space: nowrap;\n",
       "  overflow: hidden;\n",
       "  text-overflow: ellipsis;\n",
       "  padding-right: 10px;\n",
       "}\n",
       "\n",
       ".xr-var-name:hover,\n",
       ".xr-var-dims:hover,\n",
       ".xr-var-dtype:hover,\n",
       ".xr-attrs dt:hover {\n",
       "  overflow: visible;\n",
       "  width: auto;\n",
       "  z-index: 1;\n",
       "}\n",
       "\n",
       ".xr-var-attrs,\n",
       ".xr-var-data {\n",
       "  display: none;\n",
       "  background-color: var(--xr-background-color) !important;\n",
       "  padding-bottom: 5px !important;\n",
       "}\n",
       "\n",
       ".xr-var-attrs-in:checked ~ .xr-var-attrs,\n",
       ".xr-var-data-in:checked ~ .xr-var-data {\n",
       "  display: block;\n",
       "}\n",
       "\n",
       ".xr-var-data > table {\n",
       "  float: right;\n",
       "}\n",
       "\n",
       ".xr-var-name span,\n",
       ".xr-var-data,\n",
       ".xr-attrs {\n",
       "  padding-left: 25px !important;\n",
       "}\n",
       "\n",
       ".xr-attrs,\n",
       ".xr-var-attrs,\n",
       ".xr-var-data {\n",
       "  grid-column: 1 / -1;\n",
       "}\n",
       "\n",
       "dl.xr-attrs {\n",
       "  padding: 0;\n",
       "  margin: 0;\n",
       "  display: grid;\n",
       "  grid-template-columns: 125px auto;\n",
       "}\n",
       "\n",
       ".xr-attrs dt,\n",
       ".xr-attrs dd {\n",
       "  padding: 0;\n",
       "  margin: 0;\n",
       "  float: left;\n",
       "  padding-right: 10px;\n",
       "  width: auto;\n",
       "}\n",
       "\n",
       ".xr-attrs dt {\n",
       "  font-weight: normal;\n",
       "  grid-column: 1;\n",
       "}\n",
       "\n",
       ".xr-attrs dt:hover span {\n",
       "  display: inline-block;\n",
       "  background: var(--xr-background-color);\n",
       "  padding-right: 10px;\n",
       "}\n",
       "\n",
       ".xr-attrs dd {\n",
       "  grid-column: 2;\n",
       "  white-space: pre-wrap;\n",
       "  word-break: break-all;\n",
       "}\n",
       "\n",
       ".xr-icon-database,\n",
       ".xr-icon-file-text2 {\n",
       "  display: inline-block;\n",
       "  vertical-align: middle;\n",
       "  width: 1em;\n",
       "  height: 1.5em !important;\n",
       "  stroke-width: 0;\n",
       "  stroke: currentColor;\n",
       "  fill: currentColor;\n",
       "}\n",
       "</style><pre class='xr-text-repr-fallback'>&lt;xarray.Dataset&gt;\n",
       "Dimensions:          (y: 126, x: 111)\n",
       "Coordinates:\n",
       "  * y                (y) float64 7.745e+05 7.755e+05 ... 8.985e+05 8.995e+05\n",
       "  * x                (x) float64 2.856e+06 2.854e+06 ... 2.746e+06 2.746e+06\n",
       "    spatial_ref      int64 0\n",
       "Data variables:\n",
       "    puntos           (y, x) float64 nan nan nan nan nan ... 0.0 0.0 0.0 0.0 nan\n",
       "    metros_vialidad  (y, x) float64 nan nan nan nan nan ... 0.0 0.0 0.0 0.0 nan</pre><div class='xr-wrap' style='display:none'><div class='xr-header'><div class='xr-obj-type'>xarray.Dataset</div></div><ul class='xr-sections'><li class='xr-section-item'><input id='section-ec195d52-e4a1-4878-ba0e-109614416dba' class='xr-section-summary-in' type='checkbox' disabled ><label for='section-ec195d52-e4a1-4878-ba0e-109614416dba' class='xr-section-summary'  title='Expand/collapse section'>Dimensions:</label><div class='xr-section-inline-details'><ul class='xr-dim-list'><li><span class='xr-has-index'>y</span>: 126</li><li><span class='xr-has-index'>x</span>: 111</li></ul></div><div class='xr-section-details'></div></li><li class='xr-section-item'><input id='section-dae28d2e-967f-4067-a2e8-c08f279c05b6' class='xr-section-summary-in' type='checkbox'  checked><label for='section-dae28d2e-967f-4067-a2e8-c08f279c05b6' class='xr-section-summary' >Coordinates: <span>(3)</span></label><div class='xr-section-inline-details'></div><div class='xr-section-details'><ul class='xr-var-list'><li class='xr-var-item'><div class='xr-var-name'><span class='xr-has-index'>y</span></div><div class='xr-var-dims'>(y)</div><div class='xr-var-dtype'>float64</div><div class='xr-var-preview xr-preview'>7.745e+05 7.755e+05 ... 8.995e+05</div><input id='attrs-ac197de6-cee5-4526-b8b2-2830daa6ed1b' class='xr-var-attrs-in' type='checkbox' ><label for='attrs-ac197de6-cee5-4526-b8b2-2830daa6ed1b' title='Show/Hide attributes'><svg class='icon xr-icon-file-text2'><use xlink:href='#icon-file-text2'></use></svg></label><input id='data-2b8c79aa-c76c-417f-ba53-4237e9d23986' class='xr-var-data-in' type='checkbox'><label for='data-2b8c79aa-c76c-417f-ba53-4237e9d23986' title='Show/Hide data repr'><svg class='icon xr-icon-database'><use xlink:href='#icon-database'></use></svg></label><div class='xr-var-attrs'><dl class='xr-attrs'><dt><span>axis :</span></dt><dd>Y</dd><dt><span>long_name :</span></dt><dd>y coordinate of projection</dd><dt><span>standard_name :</span></dt><dd>projection_y_coordinate</dd><dt><span>units :</span></dt><dd>metre</dd></dl></div><div class='xr-var-data'><pre>array([774500., 775500., 776500., 777500., 778500., 779500., 780500., 781500.,\n",
       "       782500., 783500., 784500., 785500., 786500., 787500., 788500., 789500.,\n",
       "       790500., 791500., 792500., 793500., 794500., 795500., 796500., 797500.,\n",
       "       798500., 799500., 800500., 801500., 802500., 803500., 804500., 805500.,\n",
       "       806500., 807500., 808500., 809500., 810500., 811500., 812500., 813500.,\n",
       "       814500., 815500., 816500., 817500., 818500., 819500., 820500., 821500.,\n",
       "       822500., 823500., 824500., 825500., 826500., 827500., 828500., 829500.,\n",
       "       830500., 831500., 832500., 833500., 834500., 835500., 836500., 837500.,\n",
       "       838500., 839500., 840500., 841500., 842500., 843500., 844500., 845500.,\n",
       "       846500., 847500., 848500., 849500., 850500., 851500., 852500., 853500.,\n",
       "       854500., 855500., 856500., 857500., 858500., 859500., 860500., 861500.,\n",
       "       862500., 863500., 864500., 865500., 866500., 867500., 868500., 869500.,\n",
       "       870500., 871500., 872500., 873500., 874500., 875500., 876500., 877500.,\n",
       "       878500., 879500., 880500., 881500., 882500., 883500., 884500., 885500.,\n",
       "       886500., 887500., 888500., 889500., 890500., 891500., 892500., 893500.,\n",
       "       894500., 895500., 896500., 897500., 898500., 899500.])</pre></div></li><li class='xr-var-item'><div class='xr-var-name'><span class='xr-has-index'>x</span></div><div class='xr-var-dims'>(x)</div><div class='xr-var-dtype'>float64</div><div class='xr-var-preview xr-preview'>2.856e+06 2.854e+06 ... 2.746e+06</div><input id='attrs-ca0b741c-3050-4e2b-9b6c-54d955bae6b4' class='xr-var-attrs-in' type='checkbox' ><label for='attrs-ca0b741c-3050-4e2b-9b6c-54d955bae6b4' title='Show/Hide attributes'><svg class='icon xr-icon-file-text2'><use xlink:href='#icon-file-text2'></use></svg></label><input id='data-1c2c25fe-b06a-45d5-a28c-0e4980cf3e96' class='xr-var-data-in' type='checkbox'><label for='data-1c2c25fe-b06a-45d5-a28c-0e4980cf3e96' title='Show/Hide data repr'><svg class='icon xr-icon-database'><use xlink:href='#icon-database'></use></svg></label><div class='xr-var-attrs'><dl class='xr-attrs'><dt><span>axis :</span></dt><dd>X</dd><dt><span>long_name :</span></dt><dd>x coordinate of projection</dd><dt><span>standard_name :</span></dt><dd>projection_x_coordinate</dd><dt><span>units :</span></dt><dd>metre</dd></dl></div><div class='xr-var-data'><pre>array([2855500., 2854500., 2853500., 2852500., 2851500., 2850500., 2849500.,\n",
       "       2848500., 2847500., 2846500., 2845500., 2844500., 2843500., 2842500.,\n",
       "       2841500., 2840500., 2839500., 2838500., 2837500., 2836500., 2835500.,\n",
       "       2834500., 2833500., 2832500., 2831500., 2830500., 2829500., 2828500.,\n",
       "       2827500., 2826500., 2825500., 2824500., 2823500., 2822500., 2821500.,\n",
       "       2820500., 2819500., 2818500., 2817500., 2816500., 2815500., 2814500.,\n",
       "       2813500., 2812500., 2811500., 2810500., 2809500., 2808500., 2807500.,\n",
       "       2806500., 2805500., 2804500., 2803500., 2802500., 2801500., 2800500.,\n",
       "       2799500., 2798500., 2797500., 2796500., 2795500., 2794500., 2793500.,\n",
       "       2792500., 2791500., 2790500., 2789500., 2788500., 2787500., 2786500.,\n",
       "       2785500., 2784500., 2783500., 2782500., 2781500., 2780500., 2779500.,\n",
       "       2778500., 2777500., 2776500., 2775500., 2774500., 2773500., 2772500.,\n",
       "       2771500., 2770500., 2769500., 2768500., 2767500., 2766500., 2765500.,\n",
       "       2764500., 2763500., 2762500., 2761500., 2760500., 2759500., 2758500.,\n",
       "       2757500., 2756500., 2755500., 2754500., 2753500., 2752500., 2751500.,\n",
       "       2750500., 2749500., 2748500., 2747500., 2746500., 2745500.])</pre></div></li><li class='xr-var-item'><div class='xr-var-name'><span>spatial_ref</span></div><div class='xr-var-dims'>()</div><div class='xr-var-dtype'>int64</div><div class='xr-var-preview xr-preview'>0</div><input id='attrs-289cea12-2b2d-4b91-8645-e76202dd2c15' class='xr-var-attrs-in' type='checkbox' ><label for='attrs-289cea12-2b2d-4b91-8645-e76202dd2c15' title='Show/Hide attributes'><svg class='icon xr-icon-file-text2'><use xlink:href='#icon-file-text2'></use></svg></label><input id='data-a4f278ad-ddf0-413b-892e-bc2ec9221135' class='xr-var-data-in' type='checkbox'><label for='data-a4f278ad-ddf0-413b-892e-bc2ec9221135' title='Show/Hide data repr'><svg class='icon xr-icon-database'><use xlink:href='#icon-database'></use></svg></label><div class='xr-var-attrs'><dl class='xr-attrs'><dt><span>crs_wkt :</span></dt><dd>PROJCS[&quot;International_Terrestrial_Reference_Frame_1992Lambert_Conformal_Conic_2SP&quot;,GEOGCS[&quot;GCS_International_Terrestrial_Reference_Frame_1992&quot;,DATUM[&quot;International_Terrestrial_Reference_Frame_1992&quot;,SPHEROID[&quot;GRS 1980&quot;,6378137,298.257222101,AUTHORITY[&quot;EPSG&quot;,&quot;7019&quot;]],AUTHORITY[&quot;EPSG&quot;,&quot;6651&quot;]],PRIMEM[&quot;Greenwich&quot;,0],UNIT[&quot;Degree&quot;,0.0174532925199433]],PROJECTION[&quot;Lambert_Conformal_Conic_2SP&quot;],PARAMETER[&quot;false_easting&quot;,2500000],PARAMETER[&quot;false_northing&quot;,0],PARAMETER[&quot;central_meridian&quot;,-102],PARAMETER[&quot;standard_parallel_1&quot;,17.5],PARAMETER[&quot;standard_parallel_2&quot;,29.5],PARAMETER[&quot;Scale_Factor&quot;,1],PARAMETER[&quot;latitude_of_origin&quot;,12],UNIT[&quot;metre&quot;,1,AUTHORITY[&quot;EPSG&quot;,&quot;9001&quot;]],AXIS[&quot;Easting&quot;,EAST],AXIS[&quot;Northing&quot;,NORTH]]</dd><dt><span>semi_major_axis :</span></dt><dd>6378137.0</dd><dt><span>semi_minor_axis :</span></dt><dd>6356752.314140356</dd><dt><span>inverse_flattening :</span></dt><dd>298.257222101</dd><dt><span>reference_ellipsoid_name :</span></dt><dd>GRS 1980</dd><dt><span>longitude_of_prime_meridian :</span></dt><dd>0.0</dd><dt><span>prime_meridian_name :</span></dt><dd>Greenwich</dd><dt><span>geographic_crs_name :</span></dt><dd>GCS_International_Terrestrial_Reference_Frame_1992</dd><dt><span>horizontal_datum_name :</span></dt><dd>International_Terrestrial_Reference_Frame_1992</dd><dt><span>projected_crs_name :</span></dt><dd>International_Terrestrial_Reference_Frame_1992Lambert_Conformal_Conic_2SP</dd><dt><span>grid_mapping_name :</span></dt><dd>lambert_conformal_conic</dd><dt><span>standard_parallel :</span></dt><dd>(17.5, 29.5)</dd><dt><span>latitude_of_projection_origin :</span></dt><dd>12.0</dd><dt><span>longitude_of_central_meridian :</span></dt><dd>-102.0</dd><dt><span>false_easting :</span></dt><dd>2500000.0</dd><dt><span>false_northing :</span></dt><dd>0.0</dd><dt><span>spatial_ref :</span></dt><dd>PROJCS[&quot;International_Terrestrial_Reference_Frame_1992Lambert_Conformal_Conic_2SP&quot;,GEOGCS[&quot;GCS_International_Terrestrial_Reference_Frame_1992&quot;,DATUM[&quot;International_Terrestrial_Reference_Frame_1992&quot;,SPHEROID[&quot;GRS 1980&quot;,6378137,298.257222101,AUTHORITY[&quot;EPSG&quot;,&quot;7019&quot;]],AUTHORITY[&quot;EPSG&quot;,&quot;6651&quot;]],PRIMEM[&quot;Greenwich&quot;,0],UNIT[&quot;Degree&quot;,0.0174532925199433]],PROJECTION[&quot;Lambert_Conformal_Conic_2SP&quot;],PARAMETER[&quot;false_easting&quot;,2500000],PARAMETER[&quot;false_northing&quot;,0],PARAMETER[&quot;central_meridian&quot;,-102],PARAMETER[&quot;standard_parallel_1&quot;,17.5],PARAMETER[&quot;standard_parallel_2&quot;,29.5],PARAMETER[&quot;Scale_Factor&quot;,1],PARAMETER[&quot;latitude_of_origin&quot;,12],UNIT[&quot;metre&quot;,1,AUTHORITY[&quot;EPSG&quot;,&quot;9001&quot;]],AXIS[&quot;Easting&quot;,EAST],AXIS[&quot;Northing&quot;,NORTH]]</dd><dt><span>GeoTransform :</span></dt><dd>2856000.0 -1000.0 0.0 774000.0 0.0 1000.0</dd></dl></div><div class='xr-var-data'><pre>array(0)</pre></div></li></ul></div></li><li class='xr-section-item'><input id='section-4fd8a769-c999-4823-bf2b-3222e58d79d4' class='xr-section-summary-in' type='checkbox'  checked><label for='section-4fd8a769-c999-4823-bf2b-3222e58d79d4' class='xr-section-summary' >Data variables: <span>(2)</span></label><div class='xr-section-inline-details'></div><div class='xr-section-details'><ul class='xr-var-list'><li class='xr-var-item'><div class='xr-var-name'><span>puntos</span></div><div class='xr-var-dims'>(y, x)</div><div class='xr-var-dtype'>float64</div><div class='xr-var-preview xr-preview'>nan nan nan nan ... 0.0 0.0 0.0 nan</div><input id='attrs-2919feeb-db95-4a1e-bb66-911cd6bdca0e' class='xr-var-attrs-in' type='checkbox' ><label for='attrs-2919feeb-db95-4a1e-bb66-911cd6bdca0e' title='Show/Hide attributes'><svg class='icon xr-icon-file-text2'><use xlink:href='#icon-file-text2'></use></svg></label><input id='data-87450cad-be66-477f-bb0c-3d67f9024751' class='xr-var-data-in' type='checkbox'><label for='data-87450cad-be66-477f-bb0c-3d67f9024751' title='Show/Hide data repr'><svg class='icon xr-icon-database'><use xlink:href='#icon-database'></use></svg></label><div class='xr-var-attrs'><dl class='xr-attrs'><dt><span>name :</span></dt><dd>puntos</dd><dt><span>long_name :</span></dt><dd>puntos</dd><dt><span>_FillValue :</span></dt><dd>nan</dd></dl></div><div class='xr-var-data'><pre>array([[nan, nan, nan, ..., nan, nan, nan],\n",
       "       [ 0.,  0.,  0., ...,  0.,  0., nan],\n",
       "       [ 0.,  0.,  0., ...,  0.,  0., nan],\n",
       "       ...,\n",
       "       [ 0.,  0.,  0., ...,  0.,  0., nan],\n",
       "       [ 0.,  0.,  0., ...,  0.,  0., nan],\n",
       "       [ 0.,  0.,  0., ...,  0.,  0., nan]])</pre></div></li><li class='xr-var-item'><div class='xr-var-name'><span>metros_vialidad</span></div><div class='xr-var-dims'>(y, x)</div><div class='xr-var-dtype'>float64</div><div class='xr-var-preview xr-preview'>nan nan nan nan ... 0.0 0.0 0.0 nan</div><input id='attrs-21d57a8d-c896-4aa4-9f00-8cd45ee6ec2f' class='xr-var-attrs-in' type='checkbox' ><label for='attrs-21d57a8d-c896-4aa4-9f00-8cd45ee6ec2f' title='Show/Hide attributes'><svg class='icon xr-icon-file-text2'><use xlink:href='#icon-file-text2'></use></svg></label><input id='data-1a549939-b382-46ad-b0ea-ef444e06b239' class='xr-var-data-in' type='checkbox'><label for='data-1a549939-b382-46ad-b0ea-ef444e06b239' title='Show/Hide data repr'><svg class='icon xr-icon-database'><use xlink:href='#icon-database'></use></svg></label><div class='xr-var-attrs'><dl class='xr-attrs'><dt><span>name :</span></dt><dd>metros_vialidad</dd><dt><span>long_name :</span></dt><dd>metros_vialidad</dd><dt><span>_FillValue :</span></dt><dd>nan</dd></dl></div><div class='xr-var-data'><pre>array([[nan, nan, nan, ..., nan, nan, nan],\n",
       "       [ 0.,  0.,  0., ...,  0.,  0., nan],\n",
       "       [ 0.,  0.,  0., ...,  0.,  0., nan],\n",
       "       ...,\n",
       "       [ 0.,  0.,  0., ...,  0.,  0., nan],\n",
       "       [ 0.,  0.,  0., ...,  0.,  0., nan],\n",
       "       [ 0.,  0.,  0., ...,  0.,  0., nan]])</pre></div></li></ul></div></li><li class='xr-section-item'><input id='section-3fe7183f-3b63-4cbf-89c2-dde38d34412c' class='xr-section-summary-in' type='checkbox' disabled ><label for='section-3fe7183f-3b63-4cbf-89c2-dde38d34412c' class='xr-section-summary'  title='Expand/collapse section'>Attributes: <span>(0)</span></label><div class='xr-section-inline-details'></div><div class='xr-section-details'><dl class='xr-attrs'></dl></div></li></ul></div></div>"
      ],
      "text/plain": [
       "<xarray.Dataset>\n",
       "Dimensions:          (y: 126, x: 111)\n",
       "Coordinates:\n",
       "  * y                (y) float64 7.745e+05 7.755e+05 ... 8.985e+05 8.995e+05\n",
       "  * x                (x) float64 2.856e+06 2.854e+06 ... 2.746e+06 2.746e+06\n",
       "    spatial_ref      int64 0\n",
       "Data variables:\n",
       "    puntos           (y, x) float64 nan nan nan nan nan ... 0.0 0.0 0.0 0.0 nan\n",
       "    metros_vialidad  (y, x) float64 nan nan nan nan nan ... 0.0 0.0 0.0 0.0 nan"
      ]
     },
     "execution_count": 27,
     "metadata": {},
     "output_type": "execute_result"
    }
   ],
   "source": [
    "cube = malla_todo.to_xarray()\n",
    "cube"
   ]
  },
  {
   "cell_type": "markdown",
   "metadata": {},
   "source": [
    "Podemos ver el raster correspondiente a cualquiera de las variables"
   ]
  },
  {
   "cell_type": "code",
   "execution_count": 28,
   "metadata": {
    "vscode": {
     "languageId": "python"
    }
   },
   "outputs": [
    {
     "data": {
      "text/plain": [
       "<matplotlib.collections.QuadMesh at 0x7f46028a98d0>"
      ]
     },
     "execution_count": 28,
     "metadata": {},
     "output_type": "execute_result"
    },
    {
     "data": {
      "image/png": "[encoded data removed]",
      "text/plain": [
       "<Figure size 640x480 with 2 Axes>"
      ]
     },
     "metadata": {},
     "output_type": "display_data"
    }
   ],
   "source": [
    "cube.metros_vialidad.plot()"
   ]
  },
  {
   "cell_type": "markdown",
   "metadata": {},
   "source": [
    "## Polígonos\n",
    "\n",
    "Además de calcular este tipo de agregaciones usando mallas regulares, también es importante poder usar unidades espaciales más _naturales_ como por ejemplo Colonias. Para esto, la librería implementa la clase `Poligonos` que permite agregar los mismos tipos de datos que `Mallas` pero en coberturas construidas con polígonos de formas arbitrarias.\n"
   ]
  },
  {
   "cell_type": "code",
   "execution_count": 29,
   "metadata": {
    "vscode": {
     "languageId": "python"
    }
   },
   "outputs": [],
   "source": [
    "#| export\n",
    "class Poligonos(Cobertura):\n",
    "    \"\"\" Representa una cobertura de polígonos de forma arbitraria \n",
    "        para procesar variables de uso de suelo.\"\"\"\n",
    "    def __init__ (self,\n",
    "                 datos:gpd.GeoDataFrame=None, # La malla vectorial\n",
    "                 id_col:str=None, # Columna que se va a usar para identificar a cada polígono\n",
    "        ) -> None:\n",
    "        self.id_col = id_col\n",
    "        self.datos = datos\n",
    "        self.crs = datos.crs\n",
    "    \n",
    "    @classmethod\n",
    "    def desde_archivo(cls,\n",
    "                      path:str, # Path al archivo de datos (cualquiera soportado por GeoPandas), \n",
    "                      id_col:str,  # Columna que se va a usar para identificar a cada polígono\n",
    "                      layer=None\n",
    "        ):\n",
    "        gdf = gpd.read_file(path)\n",
    "        return cls(gdf, id_col)\n",
    "\n",
    "    def agrega_lineas(self, lineas: gpd.GeoDataFrame, campo: str=None):\n",
    "        pass\n",
    "    \n",
    "    def agrega_puntos(self, puntos: gpd.GeoDataFrame, campo: str=None, clasificacion: str=None):\n",
    "        pass    "
   ]
  },
  {
   "cell_type": "code",
   "execution_count": 30,
   "metadata": {
    "vscode": {
     "languageId": "python"
    }
   },
   "outputs": [
    {
     "data": {
      "text/markdown": [
       "---\n",
       "\n",
       "[source](https://github.com/CentroGeo/pyLandUseMX/blob/master/pyLandUseMX/coberturas.py#L215){target=\"_blank\" style=\"float:right; font-size:smaller\"}\n",
       "\n",
       "### Poligonos.desde_archivo\n",
       "\n",
       ">      Poligonos.desde_archivo (path:str, id_col:str, layer=None)\n",
       "\n",
       "|    | **Type** | **Default** | **Details** |\n",
       "| -- | -------- | ----------- | ----------- |\n",
       "| path | str |  | Path al archivo de datos (cualquiera soportado por GeoPandas), |\n",
       "| id_col | str |  | Columna que se va a usar para identificar a cada polígono |\n",
       "| layer | NoneType | None |  |"
      ],
      "text/plain": [
       "---\n",
       "\n",
       "[source](https://github.com/CentroGeo/pyLandUseMX/blob/master/pyLandUseMX/coberturas.py#L215){target=\"_blank\" style=\"float:right; font-size:smaller\"}\n",
       "\n",
       "### Poligonos.desde_archivo\n",
       "\n",
       ">      Poligonos.desde_archivo (path:str, id_col:str, layer=None)\n",
       "\n",
       "|    | **Type** | **Default** | **Details** |\n",
       "| -- | -------- | ----------- | ----------- |\n",
       "| path | str |  | Path al archivo de datos (cualquiera soportado por GeoPandas), |\n",
       "| id_col | str |  | Columna que se va a usar para identificar a cada polígono |\n",
       "| layer | NoneType | None |  |"
      ]
     },
     "execution_count": 30,
     "metadata": {},
     "output_type": "execute_result"
    }
   ],
   "source": [
    "show_doc(Poligonos.desde_archivo)"
   ]
  },
  {
   "cell_type": "markdown",
   "metadata": {},
   "source": [
    "La clase contiene un método para construirla a partir de un archivo (en cualquier formato soportado por Geopandas). Para construir un objeto de esta forma, simplemente le pasamos el path al método y especificamos qué columna deberemos usar como identificador de las unidades espaciales."
   ]
  },
  {
   "cell_type": "code",
   "execution_count": 31,
   "metadata": {
    "vscode": {
     "languageId": "python"
    }
   },
   "outputs": [
    {
     "data": {
      "text/html": [
       "<div>\n",
       "<style scoped>\n",
       "    .dataframe tbody tr th:only-of-type {\n",
       "        vertical-align: middle;\n",
       "    }\n",
       "\n",
       "    .dataframe tbody tr th {\n",
       "        vertical-align: top;\n",
       "    }\n",
       "\n",
       "    .dataframe thead th {\n",
       "        text-align: right;\n",
       "    }\n",
       "</style>\n",
       "<table border=\"1\" class=\"dataframe\">\n",
       "  <thead>\n",
       "    <tr style=\"text-align: right;\">\n",
       "      <th></th>\n",
       "      <th>id</th>\n",
       "      <th>nomut</th>\n",
       "      <th>geometry</th>\n",
       "    </tr>\n",
       "  </thead>\n",
       "  <tbody>\n",
       "    <tr>\n",
       "      <th>0</th>\n",
       "      <td>1</td>\n",
       "      <td>AGUILERA</td>\n",
       "      <td>POLYGON ((483311.618 2153254.848, 483332.006 2...</td>\n",
       "    </tr>\n",
       "    <tr>\n",
       "      <th>1</th>\n",
       "      <td>2</td>\n",
       "      <td>ALDANA</td>\n",
       "      <td>POLYGON ((484406.956 2153012.331, 484401.132 2...</td>\n",
       "    </tr>\n",
       "    <tr>\n",
       "      <th>2</th>\n",
       "      <td>3</td>\n",
       "      <td>ANGEL ZIMBRON</td>\n",
       "      <td>POLYGON ((480013.755 2153003.618, 480063.589 2...</td>\n",
       "    </tr>\n",
       "    <tr>\n",
       "      <th>3</th>\n",
       "      <td>4</td>\n",
       "      <td>ARENAL</td>\n",
       "      <td>POLYGON ((484061.118 2152622.284, 484061.678 2...</td>\n",
       "    </tr>\n",
       "    <tr>\n",
       "      <th>4</th>\n",
       "      <td>5</td>\n",
       "      <td>CENTRO DE AZCAPOTZALCO</td>\n",
       "      <td>POLYGON ((480123.402 2154520.928, 480131.648 2...</td>\n",
       "    </tr>\n",
       "  </tbody>\n",
       "</table>\n",
       "</div>"
      ],
      "text/plain": [
       "   id                   nomut  \\\n",
       "0   1                AGUILERA   \n",
       "1   2                  ALDANA   \n",
       "2   3           ANGEL ZIMBRON   \n",
       "3   4                  ARENAL   \n",
       "4   5  CENTRO DE AZCAPOTZALCO   \n",
       "\n",
       "                                            geometry  \n",
       "0  POLYGON ((483311.618 2153254.848, 483332.006 2...  \n",
       "1  POLYGON ((484406.956 2153012.331, 484401.132 2...  \n",
       "2  POLYGON ((480013.755 2153003.618, 480063.589 2...  \n",
       "3  POLYGON ((484061.118 2152622.284, 484061.678 2...  \n",
       "4  POLYGON ((480123.402 2154520.928, 480131.648 2...  "
      ]
     },
     "execution_count": 31,
     "metadata": {},
     "output_type": "execute_result"
    }
   ],
   "source": [
    "pth = descarga_colonias_cdmx()\n",
    "poligonos = Poligonos.desde_archivo(pth, 'id')\n",
    "poligonos.datos.head()"
   ]
  },
  {
   "cell_type": "markdown",
   "metadata": {},
   "source": [
    "### Agrega puntos\n",
    "\n",
    "Igual que con las mallas, tenemos un método para contar puntos adentro de cada unidad."
   ]
  },
  {
   "cell_type": "code",
   "execution_count": 32,
   "metadata": {
    "vscode": {
     "languageId": "python"
    }
   },
   "outputs": [],
   "source": [
    "#| export\n",
    "@patch\n",
    "def agrega_puntos(self:Poligonos,\n",
    "                  puntos:gpd.GeoDataFrame, # La malla en la que se va a agregar\n",
    "                  campo: str='cuenta', # Nombre del campo en el que se guarda el resultado\n",
    "                  clasificacion: str=None # Columna de `puntos` que clasifica a las observaciones. En este caso se agregan\n",
    "                                          # tantas columnas a la malla como valores distintos haya en la columna\n",
    "                                          # (en este caso se ignora `campo`)\n",
    "                ) -> Poligonos:\n",
    "    \"\"\" Regresa un `Poligonos` con los conteos de puntos en cada unidad.\"\"\"\n",
    "    if self.crs != puntos.crs:\n",
    "        puntos = puntos.to_crs(self.crs)\n",
    "    if 'index_right' in puntos.columns:\n",
    "        puntos = puntos.drop(columns='index_right')\n",
    "    if self.id_col in puntos.columns:\n",
    "        puntos = puntos.drop(columns=self.id_col)\n",
    "    if clasificacion is None:\n",
    "        agregado = (puntos\n",
    "                    .sjoin(self.datos)\n",
    "                    .groupby(self.id_col)\n",
    "                    .size()\n",
    "                    .reset_index()\n",
    "                    .rename({0:campo}, axis=1)\n",
    "                    .merge(self.datos, on=self.id_col, how='right').fillna(0))\n",
    "\n",
    "    else:\n",
    "        agregado = (puntos\n",
    "                    .sjoin(self.datos)\n",
    "                    .groupby([clasificacion, self.id_col])\n",
    "                    .size()\n",
    "                    .reset_index()\n",
    "                    .pivot(index=self.id_col, columns=clasificacion, values=0)                    \n",
    "                    .merge(self.datos, on=self.id_col, how='right')\n",
    "                    .fillna(0))\n",
    "    agregado = (gpd.GeoDataFrame(agregado)\n",
    "                .set_crs(self.crs))\n",
    "    p = Poligonos(agregado, self.id_col)\n",
    "    return p"
   ]
  },
  {
   "cell_type": "markdown",
   "metadata": {},
   "source": [
    "La forma más sencilla de usar este método es simplemente agregar _todos_ los puntos de una capa en nuestros polígonos"
   ]
  },
  {
   "cell_type": "code",
   "execution_count": 33,
   "metadata": {
    "vscode": {
     "languageId": "python"
    }
   },
   "outputs": [
    {
     "data": {
      "text/html": [
       "<div>\n",
       "<style scoped>\n",
       "    .dataframe tbody tr th:only-of-type {\n",
       "        vertical-align: middle;\n",
       "    }\n",
       "\n",
       "    .dataframe tbody tr th {\n",
       "        vertical-align: top;\n",
       "    }\n",
       "\n",
       "    .dataframe thead th {\n",
       "        text-align: right;\n",
       "    }\n",
       "</style>\n",
       "<table border=\"1\" class=\"dataframe\">\n",
       "  <thead>\n",
       "    <tr style=\"text-align: right;\">\n",
       "      <th></th>\n",
       "      <th>id</th>\n",
       "      <th>puntos</th>\n",
       "      <th>nomut</th>\n",
       "      <th>geometry</th>\n",
       "    </tr>\n",
       "  </thead>\n",
       "  <tbody>\n",
       "    <tr>\n",
       "      <th>0</th>\n",
       "      <td>1</td>\n",
       "      <td>0.0</td>\n",
       "      <td>AGUILERA</td>\n",
       "      <td>POLYGON ((483311.618 2153254.848, 483332.006 2...</td>\n",
       "    </tr>\n",
       "    <tr>\n",
       "      <th>1</th>\n",
       "      <td>2</td>\n",
       "      <td>0.0</td>\n",
       "      <td>ALDANA</td>\n",
       "      <td>POLYGON ((484406.956 2153012.331, 484401.132 2...</td>\n",
       "    </tr>\n",
       "    <tr>\n",
       "      <th>2</th>\n",
       "      <td>3</td>\n",
       "      <td>0.0</td>\n",
       "      <td>ANGEL ZIMBRON</td>\n",
       "      <td>POLYGON ((480013.755 2153003.618, 480063.589 2...</td>\n",
       "    </tr>\n",
       "    <tr>\n",
       "      <th>3</th>\n",
       "      <td>4</td>\n",
       "      <td>0.0</td>\n",
       "      <td>ARENAL</td>\n",
       "      <td>POLYGON ((484061.118 2152622.284, 484061.678 2...</td>\n",
       "    </tr>\n",
       "    <tr>\n",
       "      <th>4</th>\n",
       "      <td>5</td>\n",
       "      <td>1.0</td>\n",
       "      <td>CENTRO DE AZCAPOTZALCO</td>\n",
       "      <td>POLYGON ((480123.402 2154520.928, 480131.648 2...</td>\n",
       "    </tr>\n",
       "    <tr>\n",
       "      <th>...</th>\n",
       "      <td>...</td>\n",
       "      <td>...</td>\n",
       "      <td>...</td>\n",
       "      <td>...</td>\n",
       "    </tr>\n",
       "    <tr>\n",
       "      <th>1810</th>\n",
       "      <td>1811</td>\n",
       "      <td>0.0</td>\n",
       "      <td>VILLA PROGRESISTA</td>\n",
       "      <td>POLYGON ((474406.945 2140353.439, 474418.850 2...</td>\n",
       "    </tr>\n",
       "    <tr>\n",
       "      <th>1811</th>\n",
       "      <td>1812</td>\n",
       "      <td>0.0</td>\n",
       "      <td>VILLA SOLIDARIDAD</td>\n",
       "      <td>POLYGON ((477048.978 2143204.554, 477054.695 2...</td>\n",
       "    </tr>\n",
       "    <tr>\n",
       "      <th>1812</th>\n",
       "      <td>1813</td>\n",
       "      <td>0.0</td>\n",
       "      <td>VILLA VERDUN</td>\n",
       "      <td>POLYGON ((473081.154 2138733.281, 473070.790 2...</td>\n",
       "    </tr>\n",
       "    <tr>\n",
       "      <th>1813</th>\n",
       "      <td>1814</td>\n",
       "      <td>0.0</td>\n",
       "      <td>ZENON DELGADO</td>\n",
       "      <td>POLYGON ((477329.014 2144260.214, 477335.725 2...</td>\n",
       "    </tr>\n",
       "    <tr>\n",
       "      <th>1814</th>\n",
       "      <td>1815</td>\n",
       "      <td>0.0</td>\n",
       "      <td>ZOTOLTITLA</td>\n",
       "      <td>POLYGON ((475172.282 2139719.331, 475190.495 2...</td>\n",
       "    </tr>\n",
       "  </tbody>\n",
       "</table>\n",
       "<p>1815 rows × 4 columns</p>\n",
       "</div>"
      ],
      "text/plain": [
       "        id  puntos                   nomut  \\\n",
       "0        1     0.0                AGUILERA   \n",
       "1        2     0.0                  ALDANA   \n",
       "2        3     0.0           ANGEL ZIMBRON   \n",
       "3        4     0.0                  ARENAL   \n",
       "4        5     1.0  CENTRO DE AZCAPOTZALCO   \n",
       "...    ...     ...                     ...   \n",
       "1810  1811     0.0       VILLA PROGRESISTA   \n",
       "1811  1812     0.0       VILLA SOLIDARIDAD   \n",
       "1812  1813     0.0            VILLA VERDUN   \n",
       "1813  1814     0.0           ZENON DELGADO   \n",
       "1814  1815     0.0              ZOTOLTITLA   \n",
       "\n",
       "                                               geometry  \n",
       "0     POLYGON ((483311.618 2153254.848, 483332.006 2...  \n",
       "1     POLYGON ((484406.956 2153012.331, 484401.132 2...  \n",
       "2     POLYGON ((480013.755 2153003.618, 480063.589 2...  \n",
       "3     POLYGON ((484061.118 2152622.284, 484061.678 2...  \n",
       "4     POLYGON ((480123.402 2154520.928, 480131.648 2...  \n",
       "...                                                 ...  \n",
       "1810  POLYGON ((474406.945 2140353.439, 474418.850 2...  \n",
       "1811  POLYGON ((477048.978 2143204.554, 477054.695 2...  \n",
       "1812  POLYGON ((473081.154 2138733.281, 473070.790 2...  \n",
       "1813  POLYGON ((477329.014 2144260.214, 477335.725 2...  \n",
       "1814  POLYGON ((475172.282 2139719.331, 475190.495 2...  \n",
       "\n",
       "[1815 rows x 4 columns]"
      ]
     },
     "execution_count": 33,
     "metadata": {},
     "output_type": "execute_result"
    }
   ],
   "source": [
    "puntos = gpd.read_file(\"../../datos/points_sample.zip\")\n",
    "agregado = poligonos.agrega_puntos(puntos, campo=\"puntos\")\n",
    "agregado.datos"
   ]
  },
  {
   "cell_type": "markdown",
   "metadata": {},
   "source": [
    "También, como en el caso de las mallas, podemos usar una columna con la clasificación para agregar los usos en los polígonos. Usando la misma clasificación que usamos arriba:"
   ]
  },
  {
   "cell_type": "code",
   "execution_count": 34,
   "metadata": {
    "vscode": {
     "languageId": "python"
    }
   },
   "outputs": [
    {
     "data": {
      "text/html": [
       "<div>\n",
       "<style scoped>\n",
       "    .dataframe tbody tr th:only-of-type {\n",
       "        vertical-align: middle;\n",
       "    }\n",
       "\n",
       "    .dataframe tbody tr th {\n",
       "        vertical-align: top;\n",
       "    }\n",
       "\n",
       "    .dataframe thead th {\n",
       "        text-align: right;\n",
       "    }\n",
       "</style>\n",
       "<table border=\"1\" class=\"dataframe\">\n",
       "  <thead>\n",
       "    <tr style=\"text-align: right;\">\n",
       "      <th></th>\n",
       "      <th>id</th>\n",
       "      <th>Comercio</th>\n",
       "      <th>Manufacturas</th>\n",
       "      <th>Oficinas</th>\n",
       "      <th>nomut</th>\n",
       "      <th>geometry</th>\n",
       "    </tr>\n",
       "  </thead>\n",
       "  <tbody>\n",
       "    <tr>\n",
       "      <th>0</th>\n",
       "      <td>1</td>\n",
       "      <td>2.0</td>\n",
       "      <td>0.0</td>\n",
       "      <td>0.0</td>\n",
       "      <td>AGUILERA</td>\n",
       "      <td>POLYGON ((483311.618 2153254.848, 483332.006 2...</td>\n",
       "    </tr>\n",
       "    <tr>\n",
       "      <th>1</th>\n",
       "      <td>2</td>\n",
       "      <td>6.0</td>\n",
       "      <td>0.0</td>\n",
       "      <td>1.0</td>\n",
       "      <td>ALDANA</td>\n",
       "      <td>POLYGON ((484406.956 2153012.331, 484401.132 2...</td>\n",
       "    </tr>\n",
       "    <tr>\n",
       "      <th>2</th>\n",
       "      <td>3</td>\n",
       "      <td>4.0</td>\n",
       "      <td>0.0</td>\n",
       "      <td>0.0</td>\n",
       "      <td>ANGEL ZIMBRON</td>\n",
       "      <td>POLYGON ((480013.755 2153003.618, 480063.589 2...</td>\n",
       "    </tr>\n",
       "    <tr>\n",
       "      <th>3</th>\n",
       "      <td>4</td>\n",
       "      <td>9.0</td>\n",
       "      <td>0.0</td>\n",
       "      <td>0.0</td>\n",
       "      <td>ARENAL</td>\n",
       "      <td>POLYGON ((484061.118 2152622.284, 484061.678 2...</td>\n",
       "    </tr>\n",
       "    <tr>\n",
       "      <th>4</th>\n",
       "      <td>5</td>\n",
       "      <td>43.0</td>\n",
       "      <td>0.0</td>\n",
       "      <td>4.0</td>\n",
       "      <td>CENTRO DE AZCAPOTZALCO</td>\n",
       "      <td>POLYGON ((480123.402 2154520.928, 480131.648 2...</td>\n",
       "    </tr>\n",
       "    <tr>\n",
       "      <th>...</th>\n",
       "      <td>...</td>\n",
       "      <td>...</td>\n",
       "      <td>...</td>\n",
       "      <td>...</td>\n",
       "      <td>...</td>\n",
       "      <td>...</td>\n",
       "    </tr>\n",
       "    <tr>\n",
       "      <th>1810</th>\n",
       "      <td>1811</td>\n",
       "      <td>5.0</td>\n",
       "      <td>0.0</td>\n",
       "      <td>0.0</td>\n",
       "      <td>VILLA PROGRESISTA</td>\n",
       "      <td>POLYGON ((474406.945 2140353.439, 474418.850 2...</td>\n",
       "    </tr>\n",
       "    <tr>\n",
       "      <th>1811</th>\n",
       "      <td>1812</td>\n",
       "      <td>0.0</td>\n",
       "      <td>0.0</td>\n",
       "      <td>0.0</td>\n",
       "      <td>VILLA SOLIDARIDAD</td>\n",
       "      <td>POLYGON ((477048.978 2143204.554, 477054.695 2...</td>\n",
       "    </tr>\n",
       "    <tr>\n",
       "      <th>1812</th>\n",
       "      <td>1813</td>\n",
       "      <td>0.0</td>\n",
       "      <td>0.0</td>\n",
       "      <td>0.0</td>\n",
       "      <td>VILLA VERDUN</td>\n",
       "      <td>POLYGON ((473081.154 2138733.281, 473070.790 2...</td>\n",
       "    </tr>\n",
       "    <tr>\n",
       "      <th>1813</th>\n",
       "      <td>1814</td>\n",
       "      <td>4.0</td>\n",
       "      <td>0.0</td>\n",
       "      <td>0.0</td>\n",
       "      <td>ZENON DELGADO</td>\n",
       "      <td>POLYGON ((477329.014 2144260.214, 477335.725 2...</td>\n",
       "    </tr>\n",
       "    <tr>\n",
       "      <th>1814</th>\n",
       "      <td>1815</td>\n",
       "      <td>0.0</td>\n",
       "      <td>0.0</td>\n",
       "      <td>1.0</td>\n",
       "      <td>ZOTOLTITLA</td>\n",
       "      <td>POLYGON ((475172.282 2139719.331, 475190.495 2...</td>\n",
       "    </tr>\n",
       "  </tbody>\n",
       "</table>\n",
       "<p>1815 rows × 6 columns</p>\n",
       "</div>"
      ],
      "text/plain": [
       "        id  Comercio  Manufacturas  Oficinas                   nomut  \\\n",
       "0        1       2.0           0.0       0.0                AGUILERA   \n",
       "1        2       6.0           0.0       1.0                  ALDANA   \n",
       "2        3       4.0           0.0       0.0           ANGEL ZIMBRON   \n",
       "3        4       9.0           0.0       0.0                  ARENAL   \n",
       "4        5      43.0           0.0       4.0  CENTRO DE AZCAPOTZALCO   \n",
       "...    ...       ...           ...       ...                     ...   \n",
       "1810  1811       5.0           0.0       0.0       VILLA PROGRESISTA   \n",
       "1811  1812       0.0           0.0       0.0       VILLA SOLIDARIDAD   \n",
       "1812  1813       0.0           0.0       0.0            VILLA VERDUN   \n",
       "1813  1814       4.0           0.0       0.0           ZENON DELGADO   \n",
       "1814  1815       0.0           0.0       1.0              ZOTOLTITLA   \n",
       "\n",
       "                                               geometry  \n",
       "0     POLYGON ((483311.618 2153254.848, 483332.006 2...  \n",
       "1     POLYGON ((484406.956 2153012.331, 484401.132 2...  \n",
       "2     POLYGON ((480013.755 2153003.618, 480063.589 2...  \n",
       "3     POLYGON ((484061.118 2152622.284, 484061.678 2...  \n",
       "4     POLYGON ((480123.402 2154520.928, 480131.648 2...  \n",
       "...                                                 ...  \n",
       "1810  POLYGON ((474406.945 2140353.439, 474418.850 2...  \n",
       "1811  POLYGON ((477048.978 2143204.554, 477054.695 2...  \n",
       "1812  POLYGON ((473081.154 2138733.281, 473070.790 2...  \n",
       "1813  POLYGON ((477329.014 2144260.214, 477335.725 2...  \n",
       "1814  POLYGON ((475172.282 2139719.331, 475190.495 2...  \n",
       "\n",
       "[1815 rows x 6 columns]"
      ]
     },
     "execution_count": 34,
     "metadata": {},
     "output_type": "execute_result"
    }
   ],
   "source": [
    "agregado = poligonos.agrega_puntos(usos.datos, clasificacion='Categoria')\n",
    "agregado.datos"
   ]
  },
  {
   "cell_type": "markdown",
   "metadata": {},
   "source": [
    "### Agrega variables del censo\n",
    "\n",
    "Igual que en el caso de las mallas regulares (Sección @sec-censo-mallas), es necesario contar con métodos para agregar variables censales en unidades irregulares. Los problemas en este caso son exáctamente los mismos que los que se enfrentan en ese caso y la solución que ofrece la librería es muy similar, en este caso sólo implementamos el método del centro para resolver las sobreposiciones."
   ]
  },
  {
   "cell_type": "code",
   "execution_count": 49,
   "metadata": {
    "vscode": {
     "languageId": "python"
    }
   },
   "outputs": [],
   "source": [
    "#| export\n",
    "@patch\n",
    "def agrega_manzanas(self:Poligonos, \n",
    "                    manzanas:gpd.GeoDataFrame, # Las manzanas (`descarga_manzanas_ejempolo`).\n",
    "                    variables:dict # Diccionario de las variables que querems agregar y el método para agregarlas (p, ej. {'OCUPVIVPAR':'sum'})\n",
    "    )-> Poligonos:\n",
    "    if manzanas.crs != self.crs:\n",
    "        manzanas = manzanas.to_crs(self.crs)\n",
    "    relacion = manzanas[[\"CVEGEO\", \"geometry\"]]\n",
    "    relacion[\"geometry\"] = manzanas.centroid\n",
    "    relacion = relacion.sjoin(self.datos).drop(columns=['index_right', 'geometry'])\n",
    "    manzanas = manzanas.merge(relacion, on=\"CVEGEO\")\n",
    "    poligonos = (manzanas\n",
    "                 .groupby(self.id_col)\n",
    "                 .aggregate(variables)\n",
    "                 .reset_index())\n",
    "    poligonos = self.datos.merge(poligonos, on=self.id_col, how='left').fillna(0)\n",
    "    p = Poligonos(poligonos, self.id_col)\n",
    "    return p"
   ]
  },
  {
   "cell_type": "code",
   "execution_count": 50,
   "metadata": {
    "vscode": {
     "languageId": "python"
    }
   },
   "outputs": [
    {
     "data": {
      "text/html": [
       "<div>\n",
       "<style scoped>\n",
       "    .dataframe tbody tr th:only-of-type {\n",
       "        vertical-align: middle;\n",
       "    }\n",
       "\n",
       "    .dataframe tbody tr th {\n",
       "        vertical-align: top;\n",
       "    }\n",
       "\n",
       "    .dataframe thead th {\n",
       "        text-align: right;\n",
       "    }\n",
       "</style>\n",
       "<table border=\"1\" class=\"dataframe\">\n",
       "  <thead>\n",
       "    <tr style=\"text-align: right;\">\n",
       "      <th></th>\n",
       "      <th>id</th>\n",
       "      <th>nomut</th>\n",
       "      <th>geometry</th>\n",
       "      <th>VIVPAR_HAB</th>\n",
       "      <th>OCUPVIVPAR</th>\n",
       "    </tr>\n",
       "  </thead>\n",
       "  <tbody>\n",
       "    <tr>\n",
       "      <th>0</th>\n",
       "      <td>1</td>\n",
       "      <td>AGUILERA</td>\n",
       "      <td>POLYGON ((483311.618 2153254.848, 483332.006 2...</td>\n",
       "      <td>607.0</td>\n",
       "      <td>195.700000</td>\n",
       "    </tr>\n",
       "    <tr>\n",
       "      <th>1</th>\n",
       "      <td>2</td>\n",
       "      <td>ALDANA</td>\n",
       "      <td>POLYGON ((484406.956 2153012.331, 484401.132 2...</td>\n",
       "      <td>1113.0</td>\n",
       "      <td>166.727273</td>\n",
       "    </tr>\n",
       "    <tr>\n",
       "      <th>2</th>\n",
       "      <td>3</td>\n",
       "      <td>ANGEL ZIMBRON</td>\n",
       "      <td>POLYGON ((480013.755 2153003.618, 480063.589 2...</td>\n",
       "      <td>803.0</td>\n",
       "      <td>179.000000</td>\n",
       "    </tr>\n",
       "    <tr>\n",
       "      <th>3</th>\n",
       "      <td>4</td>\n",
       "      <td>ARENAL</td>\n",
       "      <td>POLYGON ((484061.118 2152622.284, 484061.678 2...</td>\n",
       "      <td>1347.0</td>\n",
       "      <td>116.135135</td>\n",
       "    </tr>\n",
       "    <tr>\n",
       "      <th>4</th>\n",
       "      <td>5</td>\n",
       "      <td>CENTRO DE AZCAPOTZALCO</td>\n",
       "      <td>POLYGON ((480123.402 2154520.928, 480131.648 2...</td>\n",
       "      <td>1050.0</td>\n",
       "      <td>95.151515</td>\n",
       "    </tr>\n",
       "    <tr>\n",
       "      <th>...</th>\n",
       "      <td>...</td>\n",
       "      <td>...</td>\n",
       "      <td>...</td>\n",
       "      <td>...</td>\n",
       "      <td>...</td>\n",
       "    </tr>\n",
       "    <tr>\n",
       "      <th>1810</th>\n",
       "      <td>1811</td>\n",
       "      <td>VILLA PROGRESISTA</td>\n",
       "      <td>POLYGON ((474406.945 2140353.439, 474418.850 2...</td>\n",
       "      <td>600.0</td>\n",
       "      <td>64.729730</td>\n",
       "    </tr>\n",
       "    <tr>\n",
       "      <th>1811</th>\n",
       "      <td>1812</td>\n",
       "      <td>VILLA SOLIDARIDAD</td>\n",
       "      <td>POLYGON ((477048.978 2143204.554, 477054.695 2...</td>\n",
       "      <td>259.0</td>\n",
       "      <td>111.125000</td>\n",
       "    </tr>\n",
       "    <tr>\n",
       "      <th>1812</th>\n",
       "      <td>1813</td>\n",
       "      <td>VILLA VERDUN</td>\n",
       "      <td>POLYGON ((473081.154 2138733.281, 473070.790 2...</td>\n",
       "      <td>745.0</td>\n",
       "      <td>197.052632</td>\n",
       "    </tr>\n",
       "    <tr>\n",
       "      <th>1813</th>\n",
       "      <td>1814</td>\n",
       "      <td>ZENON DELGADO</td>\n",
       "      <td>POLYGON ((477329.014 2144260.214, 477335.725 2...</td>\n",
       "      <td>478.0</td>\n",
       "      <td>115.157895</td>\n",
       "    </tr>\n",
       "    <tr>\n",
       "      <th>1814</th>\n",
       "      <td>1815</td>\n",
       "      <td>ZOTOLTITLA</td>\n",
       "      <td>POLYGON ((475172.282 2139719.331, 475190.495 2...</td>\n",
       "      <td>149.0</td>\n",
       "      <td>97.555556</td>\n",
       "    </tr>\n",
       "  </tbody>\n",
       "</table>\n",
       "<p>1815 rows × 5 columns</p>\n",
       "</div>"
      ],
      "text/plain": [
       "        id                   nomut  \\\n",
       "0        1                AGUILERA   \n",
       "1        2                  ALDANA   \n",
       "2        3           ANGEL ZIMBRON   \n",
       "3        4                  ARENAL   \n",
       "4        5  CENTRO DE AZCAPOTZALCO   \n",
       "...    ...                     ...   \n",
       "1810  1811       VILLA PROGRESISTA   \n",
       "1811  1812       VILLA SOLIDARIDAD   \n",
       "1812  1813            VILLA VERDUN   \n",
       "1813  1814           ZENON DELGADO   \n",
       "1814  1815              ZOTOLTITLA   \n",
       "\n",
       "                                               geometry  VIVPAR_HAB  \\\n",
       "0     POLYGON ((483311.618 2153254.848, 483332.006 2...       607.0   \n",
       "1     POLYGON ((484406.956 2153012.331, 484401.132 2...      1113.0   \n",
       "2     POLYGON ((480013.755 2153003.618, 480063.589 2...       803.0   \n",
       "3     POLYGON ((484061.118 2152622.284, 484061.678 2...      1347.0   \n",
       "4     POLYGON ((480123.402 2154520.928, 480131.648 2...      1050.0   \n",
       "...                                                 ...         ...   \n",
       "1810  POLYGON ((474406.945 2140353.439, 474418.850 2...       600.0   \n",
       "1811  POLYGON ((477048.978 2143204.554, 477054.695 2...       259.0   \n",
       "1812  POLYGON ((473081.154 2138733.281, 473070.790 2...       745.0   \n",
       "1813  POLYGON ((477329.014 2144260.214, 477335.725 2...       478.0   \n",
       "1814  POLYGON ((475172.282 2139719.331, 475190.495 2...       149.0   \n",
       "\n",
       "      OCUPVIVPAR  \n",
       "0     195.700000  \n",
       "1     166.727273  \n",
       "2     179.000000  \n",
       "3     116.135135  \n",
       "4      95.151515  \n",
       "...          ...  \n",
       "1810   64.729730  \n",
       "1811  111.125000  \n",
       "1812  197.052632  \n",
       "1813  115.157895  \n",
       "1814   97.555556  \n",
       "\n",
       "[1815 rows x 5 columns]"
      ]
     },
     "execution_count": 50,
     "metadata": {},
     "output_type": "execute_result"
    }
   ],
   "source": [
    "agregado_censo = poligonos.agrega_manzanas(manzanas, {'VIVPAR_HAB': 'sum', \n",
    "                                                     'OCUPVIVPAR': 'mean'})\n",
    "agregado_censo.datos                                                     "
   ]
  },
  {
   "cell_type": "code",
   "execution_count": null,
   "metadata": {
    "vscode": {
     "languageId": "python"
    }
   },
   "outputs": [],
   "source": [
    "#| hide\n",
    "import nbdev; nbdev.nbdev_export()"
   ]
  }
 ],
 "metadata": {
  "kernelspec": {
   "display_name": "Python 3.10.6 ('pylandusemx')",
   "language": "python",
   "name": "python3"
  }
 },
 "nbformat": 4,
 "nbformat_minor": 2
}
