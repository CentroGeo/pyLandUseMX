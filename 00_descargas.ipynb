{
 "cells": [
  {
   "cell_type": "markdown",
   "metadata": {},
   "source": [
    "# descargas\n",
    "\n",
    "> Funciones para descargar, procesar y actualizar las fuentes de datos que se usan en la librería. "
   ]
  },
  {
   "cell_type": "code",
   "execution_count": null,
   "metadata": {},
   "outputs": [],
   "source": [
    "#| default_exp descargas"
   ]
  },
  {
   "cell_type": "code",
   "execution_count": null,
   "metadata": {},
   "outputs": [],
   "source": [
    "#| hide\n",
    "from nbdev.showdoc import *"
   ]
  },
  {
   "cell_type": "code",
   "execution_count": null,
   "metadata": {},
   "outputs": [],
   "source": [
    "#| export\n",
    "import pandas as pd\n",
    "import geopandas as gpd\n",
    "import requests\n",
    "import xml.etree.ElementTree as ET\n",
    "import os\n",
    "from zipfile import ZipFile\n",
    "import shutil\n",
    "from pathlib import Path\n",
    "\n",
    "\n",
    "DOWNLOADS_PATH = \"datos/descargas/denue/\""
   ]
  },
  {
   "cell_type": "markdown",
   "metadata": {},
   "source": [
    "## descarga_denue_inegi\n",
    "\n",
    "Esta función descarga las bases actualizadas del (DENUE)[] y las integra en una única fuente de datos para todo el país. En general no es necesario correr diréctamente esta función sino sólo la que descarga la base ya procesada.\n"
   ]
  },
  {
   "cell_type": "code",
   "execution_count": null,
   "metadata": {},
   "outputs": [],
   "source": [
    "#| export\n",
    "def descarga_denue_inegi(): pass"
   ]
  },
  {
   "cell_type": "code",
   "execution_count": null,
   "metadata": {},
   "outputs": [],
   "source": [
    "#| hide\n",
    "import nbdev; nbdev.nbdev_export()"
   ]
  }
 ],
 "metadata": {
  "kernelspec": {
   "display_name": "Python 3.8.13 ('landuse')",
   "language": "python",
   "name": "python3"
  }
 },
 "nbformat": 4,
 "nbformat_minor": 4
}
