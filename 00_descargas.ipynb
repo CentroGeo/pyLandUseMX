{
 "cells": [
  {
   "cell_type": "markdown",
   "metadata": {},
   "source": [
    "# descargas\n",
    "\n",
    "> Funciones para descargar, procesar y actualizar las fuentes de datos que se usan en la librería. "
   ]
  },
  {
   "cell_type": "code",
   "execution_count": null,
   "metadata": {},
   "outputs": [],
   "source": [
    "#| default_exp descargas"
   ]
  },
  {
   "cell_type": "code",
   "execution_count": null,
   "metadata": {},
   "outputs": [],
   "source": [
    "#| hide\n",
    "from nbdev.showdoc import *"
   ]
  },
  {
   "cell_type": "code",
   "execution_count": null,
   "metadata": {},
   "outputs": [],
   "source": [
    "#| export\n",
    "import pandas as pd\n",
    "import geopandas as gpd\n",
    "import requests\n",
    "import xml.etree.ElementTree as ET\n",
    "import os\n",
    "from zipfile import ZipFile\n",
    "import shutil\n",
    "from pathlib import Path"
   ]
  },
  {
   "cell_type": "markdown",
   "metadata": {},
   "source": [
    "## descarga_denue_inegi\n",
    "\n",
    "Esta función descarga las bases actualizadas del [DENUE](https://www.inegi.org.mx/app/descarga/?ti=6), las integra en una única base de datos para todo el país y guarda el resultado en la carpeta de datos. Esta función está aquí únicamente para documentar el proceso y, eventualmente, para actualizar los datos del DENUE cuando haya una nueva publicación.\n"
   ]
  },
  {
   "cell_type": "code",
   "execution_count": null,
   "metadata": {},
   "outputs": [],
   "source": [
    "#| export\n",
    "def descarga_denue_inegi():\n",
    "    DOWNLOADS_PATH = \"datos/descargas/denue/\"\n",
    "    Path(DOWNLOADS_PATH).mkdir(parents=True, exist_ok=True)\n",
    "    Path(DOWNLOADS_PATH + '/extracted').mkdir(parents=True, exist_ok=True)\n",
    "    tree = ET.parse(\"datos/DescargaMasivaOD.xml\")\n",
    "    root = tree.getroot()\n",
    "    datos = []\n",
    "    for archivo in root.iter('Archivo'):\n",
    "        s = archivo.text\n",
    "        tipo = s.rsplit(\"/\")[-1].split(\".\")[-2].split(\"_\")[-1]\n",
    "        if tipo == 'shp' and (s.rsplit(\"/\")[-2].split(\"_\")[0] not in ['denue', 'esenciales']):\n",
    "            url = archivo.text\n",
    "            year = archivo.text.rsplit(\"/\")[-2].split(\"_\")[0]\n",
    "            fname = s.rsplit(\"/\")[-1]\n",
    "            if os.path.exists(DOWNLOADS_PATH + fname):\n",
    "                pass\n",
    "            else:\n",
    "                r = requests.get(url, allow_redirects=True)\n",
    "                open(DOWNLOADS_PATH + fname, 'wb').write(r.content)\n",
    "            try:\n",
    "                gdf = gpd.read_file(DOWNLOADS_PATH + fname)\n",
    "            except:\n",
    "                try:\n",
    "                    zf = ZipFile(DOWNLOADS_PATH + fname)\n",
    "                    for f in zf.namelist():\n",
    "                        zinfo = zf.getinfo(f)\n",
    "                        if (zinfo.is_dir()):\n",
    "                            if f.split(\"/\")[-2] == 'conjunto_de_datos':\n",
    "                                shps = [n for n in zf.namelist() if (n.startswith(f) and not n.endswith('/'))]\n",
    "                                for s in shps:\n",
    "                                    basename = os.path.basename(s)\n",
    "                                    source = zf.open(s)\n",
    "                                    target = open(os.path.join('datos/descargas/denue/extracted/', basename), 'wb')\n",
    "                                    with source, target:\n",
    "                                        shutil.copyfileobj(source, target)\n",
    "                    gdf = gpd.read_file(os.path.join('datos/descargas/denue/extracted/', basename.split(\".\")[0] + '.shp'))\n",
    "                    [f.unlink() for f in Path('datos/descargas/denue/extracted/').glob(\"*\") if f.is_file()] \n",
    "                except:\n",
    "                    print(f'El archivo {fname} está corrupto')                \n",
    "            campos = ['nom_estab', 'raz_social', 'codigo_act', 'nombre_act', \n",
    "                    'per_ocu', 'tipoCenCom', 'cve_ent', 'cve_mun', 'cve_loc', \n",
    "                    'ageb', 'manzana', 'geometry']\n",
    "            gdf = gdf.loc[:,campos]\n",
    "            gdf['cvegeo'] = gdf['cve_ent'] + gdf['cve_mun'] + gdf['cve_loc'] + gdf['ageb'] + gdf['manzana']\n",
    "            gdf['year'] = year\n",
    "            datos.append(gdf)\n",
    "            \n",
    "    denue_total = pd.concat(datos)\n",
    "    return denue_total"
   ]
  },
  {
   "cell_type": "code",
   "execution_count": null,
   "metadata": {},
   "outputs": [
    {
     "name": "stdout",
     "output_type": "stream",
     "text": [
      "El archivo denue_46112-46311_25022015_shp.zip está corrupto\n"
     ]
    }
   ],
   "source": [
    "# df = descarga_denue_inegi()\n",
    "# df.head()"
   ]
  },
  {
   "cell_type": "markdown",
   "metadata": {},
   "source": [
    "## descarga_redes\n",
    "\n",
    "Esta función descarga un Geopackage con la red de transporte importada de [OpenStreetMap](https://www.openstreetmap.org/#map=5/23.944/-102.579).\n",
    "\n",
    "**Nota:** En este momento la red sólo está disponible para la Zona Metropolitana de la Ciudad de México."
   ]
  },
  {
   "cell_type": "code",
   "execution_count": null,
   "metadata": {},
   "outputs": [],
   "source": [
    "#| export\n",
    "def descarga_redes():\n",
    "    DOWNLOADS_PATH = \"datos/descargas/\"\n",
    "    Path(DOWNLOADS_PATH).mkdir(parents=True, exist_ok=True)\n",
    "    fname = 'red_zmvm.gpkg'\n",
    "    if os.path.exists(DOWNLOADS_PATH + fname):\n",
    "        print(\"El archivo ya está descargado\")\n",
    "    else:\n",
    "        url = 'https://www.dropbox.com/s/0fq8e8v2axyxxoc/red_zmvm.gpkg?dl=1'\n",
    "        r = requests.get(url, allow_redirects=True)\n",
    "        open(DOWNLOADS_PATH + fname, 'wb').write(r.content)"
   ]
  },
  {
   "cell_type": "code",
   "execution_count": null,
   "metadata": {},
   "outputs": [
    {
     "name": "stdout",
     "output_type": "stream",
     "text": [
      "El archivo ya está descargado\n"
     ]
    }
   ],
   "source": [
    "descarga_redes()"
   ]
  },
  {
   "cell_type": "markdown",
   "metadata": {},
   "source": [
    "## descarga_poligonos_ciudades\n",
    "\n",
    "Esta función descarga las slhuetas de las 100 ciudades más grandes de México (SUN, 2016)"
   ]
  },
  {
   "cell_type": "code",
   "execution_count": null,
   "metadata": {},
   "outputs": [],
   "source": [
    "#| export\n",
    "def descarga_poligonos_ciudades():\n",
    "    DOWNLOADS_PATH = \"datos/descargas/\"\n",
    "    Path(DOWNLOADS_PATH).mkdir(parents=True, exist_ok=True)\n",
    "    fname = 'silhuetas.shp.zip'\n",
    "    if os.path.exists(DOWNLOADS_PATH + fname):\n",
    "        print(\"El archivo ya está descargado\")\n",
    "    else:\n",
    "        url = 'https://www.dropbox.com/s/kofmn5qws911ktg/silhueta_100_ciudades.zip?dl=1'\n",
    "        r = requests.get(url, allow_redirects=True)\n",
    "        open(DOWNLOADS_PATH + fname, 'wb').write(r.content)"
   ]
  },
  {
   "cell_type": "code",
   "execution_count": null,
   "metadata": {},
   "outputs": [],
   "source": [
    "descarga_poligonos_ciudades()"
   ]
  },
  {
   "cell_type": "code",
   "execution_count": null,
   "metadata": {},
   "outputs": [],
   "source": [
    "#| hide\n",
    "import nbdev; nbdev.nbdev_export()"
   ]
  }
 ],
 "metadata": {
  "kernelspec": {
   "display_name": "Python 3.10.6 ('pylandusemx')",
   "language": "python",
   "name": "python3"
  }
 },
 "nbformat": 4,
 "nbformat_minor": 4
}
