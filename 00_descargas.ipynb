{
 "cells": [
  {
   "cell_type": "markdown",
   "metadata": {},
   "source": [
    "# descargas\n",
    "\n",
    "> Funciones para descargar, procesar y actualizar las fuentes de datos que se usan en la librería. "
   ]
  },
  {
   "cell_type": "code",
   "execution_count": null,
   "metadata": {},
   "outputs": [],
   "source": [
    "#| default_exp descargas"
   ]
  },
  {
   "cell_type": "code",
   "execution_count": null,
   "metadata": {},
   "outputs": [],
   "source": [
    "#| hide\n",
    "from nbdev.showdoc import *"
   ]
  },
  {
   "cell_type": "code",
   "execution_count": null,
   "metadata": {},
   "outputs": [],
   "source": [
    "#| export\n",
    "import pandas as pd\n",
    "import geopandas as gpd\n",
    "import requests\n",
    "import xml.etree.ElementTree as ET\n",
    "import os\n",
    "from zipfile import ZipFile\n",
    "import shutil\n",
    "from pathlib import Path"
   ]
  },
  {
   "cell_type": "markdown",
   "metadata": {},
   "source": [
    "## descarga_denue\n",
    "\n",
    "Esta función descarga diferentes bases preprocesadas del DENUE. En general el procesamiento involucra integrar los sectores en una base única y homogeneizar los nombres de los campos.\n",
    "\n",
    "La función admite un parámetro que controla cuál base se descarga, toma en cuenta que la base completa es MUY grande.\n"
   ]
  },
  {
   "cell_type": "code",
   "execution_count": null,
   "metadata": {},
   "outputs": [],
   "source": [
    "#| export\n",
    "def descarga_denue(\n",
    "        tipo:str='zmvm_2022' # Qué archivo vamos a descargar: ejemplo, zmvm_2022, zmvm_full, mexico_2022, mexico_full\n",
    "    ) -> None:\n",
    "    DOWNLOADS_PATH = \"datos/descargas/\"\n",
    "    Path(DOWNLOADS_PATH).mkdir(parents=True, exist_ok=True)\n",
    "    if tipo == 'zmvm_2022':\n",
    "        fname = 'denue_2022_zmvm.gpkg'\n",
    "        url = 'https://www.dropbox.com/s/cxyekc0wzzq6pc4/denue_2022_zmvm.gpkg?dl=1'\n",
    "    elif tipo == 'ejemplo':\n",
    "        fname = 'ejemplo_denue.gpkg'\n",
    "        url = 'https://www.dropbox.com/s/670yx6un0t4sqal/ejemplo_denue.gpkg?dl=1'\n",
    "    else:\n",
    "        print(f'El tipo {tipo} todavía no está implementado')\n",
    "        return\n",
    "\n",
    "    if os.path.exists(DOWNLOADS_PATH + fname):\n",
    "        print(\"El archivo ya está descargado\")\n",
    "    else:\n",
    "        r = requests.get(url, allow_redirects=True)\n",
    "        open(DOWNLOADS_PATH + fname, 'wb').write(r.content)\n",
    "    \n"
   ]
  },
  {
   "cell_type": "code",
   "execution_count": null,
   "metadata": {},
   "outputs": [
    {
     "name": "stdout",
     "output_type": "stream",
     "text": [
      "El archivo ya está descargado\n",
      "El tipo ejemplo todavía no está implementado\n"
     ]
    },
    {
     "ename": "UnboundLocalError",
     "evalue": "local variable 'fname' referenced before assignment",
     "output_type": "error",
     "traceback": [
      "\u001b[0;31m---------------------------------------------------------------------------\u001b[0m",
      "\u001b[0;31mUnboundLocalError\u001b[0m                         Traceback (most recent call last)",
      "\u001b[1;32m/home/plablo/git/pyLandUseMX/00_descargas.ipynb Cell 7\u001b[0m in \u001b[0;36m<cell line: 2>\u001b[0;34m()\u001b[0m\n\u001b[1;32m      <a href='vscode-notebook-cell:/home/plablo/git/pyLandUseMX/00_descargas.ipynb#X26sZmlsZQ%3D%3D?line=0'>1</a>\u001b[0m descarga_denue()\n\u001b[0;32m----> <a href='vscode-notebook-cell:/home/plablo/git/pyLandUseMX/00_descargas.ipynb#X26sZmlsZQ%3D%3D?line=1'>2</a>\u001b[0m descarga_denue(\u001b[39m'\u001b[39;49m\u001b[39mejemplo\u001b[39;49m\u001b[39m'\u001b[39;49m)\n",
      "\u001b[1;32m/home/plablo/git/pyLandUseMX/00_descargas.ipynb Cell 7\u001b[0m in \u001b[0;36mdescarga_denue\u001b[0;34m(tipo)\u001b[0m\n\u001b[1;32m     <a href='vscode-notebook-cell:/home/plablo/git/pyLandUseMX/00_descargas.ipynb#X26sZmlsZQ%3D%3D?line=9'>10</a>\u001b[0m \u001b[39melse\u001b[39;00m:\n\u001b[1;32m     <a href='vscode-notebook-cell:/home/plablo/git/pyLandUseMX/00_descargas.ipynb#X26sZmlsZQ%3D%3D?line=10'>11</a>\u001b[0m     \u001b[39mprint\u001b[39m(\u001b[39mf\u001b[39m\u001b[39m'\u001b[39m\u001b[39mEl tipo \u001b[39m\u001b[39m{\u001b[39;00mtipo\u001b[39m}\u001b[39;00m\u001b[39m todavía no está implementado\u001b[39m\u001b[39m'\u001b[39m)\n\u001b[0;32m---> <a href='vscode-notebook-cell:/home/plablo/git/pyLandUseMX/00_descargas.ipynb#X26sZmlsZQ%3D%3D?line=12'>13</a>\u001b[0m \u001b[39mif\u001b[39;00m os\u001b[39m.\u001b[39mpath\u001b[39m.\u001b[39mexists(DOWNLOADS_PATH \u001b[39m+\u001b[39m fname):\n\u001b[1;32m     <a href='vscode-notebook-cell:/home/plablo/git/pyLandUseMX/00_descargas.ipynb#X26sZmlsZQ%3D%3D?line=13'>14</a>\u001b[0m     \u001b[39mprint\u001b[39m(\u001b[39m\"\u001b[39m\u001b[39mEl archivo ya está descargado\u001b[39m\u001b[39m\"\u001b[39m)\n\u001b[1;32m     <a href='vscode-notebook-cell:/home/plablo/git/pyLandUseMX/00_descargas.ipynb#X26sZmlsZQ%3D%3D?line=14'>15</a>\u001b[0m \u001b[39melse\u001b[39;00m:\n",
      "\u001b[0;31mUnboundLocalError\u001b[0m: local variable 'fname' referenced before assignment"
     ]
    }
   ],
   "source": [
    "descarga_denue()\n",
    "descarga_denue('ejemplo')"
   ]
  },
  {
   "cell_type": "markdown",
   "metadata": {},
   "source": [
    "## descarga_redes\n",
    "\n",
    "Esta función descarga un Geopackage con la red de transporte importada de [OpenStreetMap](https://www.openstreetmap.org/#map=5/23.944/-102.579).\n",
    "\n",
    "**Nota:** En este momento la red sólo está disponible para la Zona Metropolitana de la Ciudad de México."
   ]
  },
  {
   "cell_type": "code",
   "execution_count": null,
   "metadata": {},
   "outputs": [],
   "source": [
    "#| export\n",
    "def descarga_redes():\n",
    "    DOWNLOADS_PATH = \"datos/descargas/\"\n",
    "    Path(DOWNLOADS_PATH).mkdir(parents=True, exist_ok=True)\n",
    "    fname = 'red_zmvm.gpkg'\n",
    "    if os.path.exists(DOWNLOADS_PATH + fname):\n",
    "        print(\"El archivo ya está descargado\")\n",
    "    else:\n",
    "        url = 'https://www.dropbox.com/s/0fq8e8v2axyxxoc/red_zmvm.gpkg?dl=1'\n",
    "        r = requests.get(url, allow_redirects=True)\n",
    "        open(DOWNLOADS_PATH + fname, 'wb').write(r.content)"
   ]
  },
  {
   "cell_type": "code",
   "execution_count": null,
   "metadata": {},
   "outputs": [
    {
     "name": "stdout",
     "output_type": "stream",
     "text": [
      "El archivo ya está descargado\n"
     ]
    }
   ],
   "source": [
    "descarga_redes()"
   ]
  },
  {
   "cell_type": "markdown",
   "metadata": {},
   "source": [
    "## descarga_poligonos_ciudades\n",
    "\n",
    "Esta función descarga las slhuetas de las 100 ciudades más grandes de México (SUN, 2016)"
   ]
  },
  {
   "cell_type": "code",
   "execution_count": null,
   "metadata": {},
   "outputs": [],
   "source": [
    "#| export\n",
    "def descarga_poligonos_ciudades():\n",
    "    DOWNLOADS_PATH = \"datos/descargas/\"\n",
    "    Path(DOWNLOADS_PATH).mkdir(parents=True, exist_ok=True)\n",
    "    fname = 'silhuetas.shp.zip'\n",
    "    if os.path.exists(DOWNLOADS_PATH + fname):\n",
    "        print(\"El archivo ya está descargado\")\n",
    "    else:\n",
    "        url = 'https://www.dropbox.com/s/kofmn5qws911ktg/silhueta_100_ciudades.zip?dl=1'\n",
    "        r = requests.get(url, allow_redirects=True)\n",
    "        open(DOWNLOADS_PATH + fname, 'wb').write(r.content)"
   ]
  },
  {
   "cell_type": "code",
   "execution_count": null,
   "metadata": {},
   "outputs": [],
   "source": [
    "descarga_poligonos_ciudades()"
   ]
  },
  {
   "cell_type": "markdown",
   "metadata": {},
   "source": [
    "## descarga_datos_completos\n",
    "\n",
    "Esta función llama a todas las anmteriores para descargar todos los datos."
   ]
  },
  {
   "cell_type": "code",
   "execution_count": null,
   "metadata": {},
   "outputs": [],
   "source": [
    "#| export\n",
    "def descarga_datos_completos():\n",
    "    descarga_poligonos_ciudades()\n",
    "    descarga_redes()"
   ]
  },
  {
   "cell_type": "markdown",
   "metadata": {},
   "source": [
    "descarga_datos_completos()"
   ]
  },
  {
   "cell_type": "code",
   "execution_count": null,
   "metadata": {},
   "outputs": [],
   "source": [
    "#| hide\n",
    "import nbdev; nbdev.nbdev_export()"
   ]
  }
 ],
 "metadata": {
  "kernelspec": {
   "display_name": "Python 3.10.6 ('pylandusemx')",
   "language": "python",
   "name": "python3"
  }
 },
 "nbformat": 4,
 "nbformat_minor": 4
}
