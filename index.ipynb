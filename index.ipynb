{
 "cells": [
  {
   "cell_type": "code",
   "execution_count": null,
   "metadata": {},
   "outputs": [],
   "source": [
    "#| hide\n",
    "from pyLandUseMX.descargas import *\n",
    "from pyLandUseMX.mallas import *"
   ]
  },
  {
   "cell_type": "markdown",
   "metadata": {},
   "source": [
    "# pyLandUseMX\n",
    "\n",
    "> Herramientas para construir y obtener variables de uso de suelo en México"
   ]
  },
  {
   "cell_type": "markdown",
   "metadata": {},
   "source": [
    "El uso de suelo es un insumo básico para diferentes investigaciones en el contexto urbano: criminología, movilidad y diseño urbano, por ejemplo, son campos en los que contar con información sobre el uso real del suelo resulta fundamental para realizar investigaciones cuantitativas. Esta librería busca ofrecer diferentes opciones para construir variables e índices para caracterizar el uso de suelo _real_, es decir el uso observado, en el contexto de las ciudades mexicanas.\n",
    "\n",
    "Aprovecha diferentes fuentes de datos públicas como el DENUE y el Censo para estimar variables de uso de suelo y su cambio en el tiempo. Provee métodos para definir tipos de uso de suelo y agregarlo en diferentes unidades espaciales: mallas regulares, hexágonos y polígonos arbitrarios (como colonias o AGEBS)."
   ]
  },
  {
   "cell_type": "markdown",
   "metadata": {},
   "source": [
    "## Instalación\n",
    "\n",
    "Por lo pronto, la manera más fácil de instalar la librería es usando `pip` para instalar desde el repositorio. Antes es necesario asegurarse de que las dependencias del sistema están instaladas:\n",
    "\n",
    "* `gdal`\n",
    "* `rtree`\n",
    "* `libgeos`\n",
    "* `proj`\n",
    "\n",
    "En sistemas basados en `apt`:\n",
    "\n",
    "```sh\n",
    "sudo apt-get install -y gdal-bin python3-gdal python3-rtree libspatialindex-dev libgeos-dev libproj-dev\n",
    "```\n",
    "\n",
    "Ya con las dependencias instaladas:\n",
    "\n",
    "```sh\n",
    "pip install git+https://github.com/CentroGeo/pyLandUseMX\n",
    "```\n"
   ]
  },
  {
   "cell_type": "markdown",
   "metadata": {},
   "source": [
    "## Uso"
   ]
  },
  {
   "cell_type": "markdown",
   "metadata": {},
   "source": [
    "La librería contiene una serie de módulos para realizar diferentes tareas para la extracción y proceso de variables de uso de suelo. El primer módulo de `descargas`, este símplemente se encarga de asegurar que los datos estén descargados. Por lo pronto todos los datos se descargan a la carpeta `datos/descargas` en el directorio de instalación.\n",
    "\n",
    "Para descargar los datos individualmente:"
   ]
  },
  {
   "cell_type": "code",
   "execution_count": null,
   "metadata": {},
   "outputs": [
    {
     "data": {
      "text/plain": [
       "2"
      ]
     },
     "execution_count": null,
     "metadata": {},
     "output_type": "execute_result"
    }
   ],
   "source": [
    "descarga_redes()\n",
    "descarga_poligonos_ciudades()"
   ]
  },
  {
   "cell_type": "markdown",
   "metadata": {},
   "source": [
    "También podemos descargar todos los datos:"
   ]
  },
  {
   "cell_type": "code",
   "execution_count": null,
   "metadata": {},
   "outputs": [],
   "source": [
    "## TODO"
   ]
  }
 ],
 "metadata": {
  "kernelspec": {
   "display_name": "Python 3.10.4 64-bit",
   "language": "python",
   "name": "python3"
  }
 },
 "nbformat": 4,
 "nbformat_minor": 4
}
